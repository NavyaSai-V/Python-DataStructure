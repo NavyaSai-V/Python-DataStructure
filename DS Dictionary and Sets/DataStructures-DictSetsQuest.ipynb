{
 "cells": [
  {
   "cell_type": "markdown",
   "metadata": {
    "tags": []
   },
   "source": [
    "## Part I : Dict"
   ]
  },
  {
   "cell_type": "markdown",
   "metadata": {
    "tags": []
   },
   "source": [
    "### Challenge 1: Salary Analysis\n",
    "\n",
    "\n",
    "* Write a function that takes a dictionary of employee names and salaries as input and returns the highest salary in the company.\n",
    "* Write a function to calculate the average salary of all employees and print the result.\n",
    "* Write a function to identify and display the names of employees who earn above $5000.\n",
    "* Write a function to sort and display employee names in alphabetical order."
   ]
  },
  {
   "cell_type": "code",
   "execution_count": 2,
   "metadata": {},
   "outputs": [],
   "source": [
    "# Sample Data\n",
    "employee_salaries = {'Alice': 4800, 'Bob': 5200, 'Charlie': 7000}  "
   ]
  },
  {
   "cell_type": "code",
   "execution_count": 7,
   "metadata": {},
   "outputs": [
    {
     "name": "stdout",
     "output_type": "stream",
     "text": [
      "Highest Salary: 7000\n",
      "Average Salary: 5666.666666666667\n",
      "Employees earning above $5000: {'Charlie', 'Bob'}\n",
      "Employees sorted alphabetically: [('Alice', 4800), ('Bob', 5200), ('Charlie', 7000)]\n"
     ]
    }
   ],
   "source": [
    "def find_highest_salary(employees):  \n",
    "    sal = employee_salaries.values()\n",
    "    return max(sal)\n",
    "  \n",
    "def calculate_average_salary(employees): \n",
    "    if employees:\n",
    "        sal = employee_salaries.values()\n",
    "        return sum(sal)/len(sal)\n",
    "    \n",
    "  \n",
    "def employees_above_threshold(employees, threshold=5000):  \n",
    "    return {name for name, sal in employees.items() if sal >= 5000}\n",
    "  \n",
    "def sort_employees_alphabetically(employees):  \n",
    "    return sorted(employees.items())\n",
    "\n",
    "\n",
    "print(\"Highest Salary:\", find_highest_salary(employee_salaries))  \n",
    "print(\"Average Salary:\", calculate_average_salary(employee_salaries))  \n",
    "print(\"Employees earning above $5000:\", employees_above_threshold(employee_salaries))  \n",
    "print(\"Employees sorted alphabetically:\", sort_employees_alphabetically(employee_salaries))  "
   ]
  },
  {
   "cell_type": "markdown",
   "metadata": {},
   "source": [
    "### Challenge 2: Age Analysis\n",
    "\n",
    "* Extend the initial dictionary to include the age of each employee.\n",
    "Write a function to find and display the oldest employee in the company.\n",
    "Write a function to calculate the average age of all employees and print the result.\n",
    "Write a function to identify and display the names of employees who are younger than 30.\n",
    "Write a function to sort and display the employee names based on age in ascending order."
   ]
  },
  {
   "cell_type": "code",
   "execution_count": 11,
   "metadata": {},
   "outputs": [],
   "source": [
    "# Sample data\n",
    "# Assuming a dictionary of employees named 'employee_details' with age included  \n",
    "employee_details = {'Alice': {'salary': 4800, 'age': 28}, \n",
    "                    'Bob': {'salary': 5200, 'age': 34}, \n",
    "                    'Charlie': {'salary': 7000, 'age': 41}}  "
   ]
  },
  {
   "cell_type": "code",
   "execution_count": 20,
   "metadata": {},
   "outputs": [
    {
     "name": "stdout",
     "output_type": "stream",
     "text": [
      "Oldest Employee: ['Charlie']\n",
      "Average Age: 34.333333333333336\n",
      "Employees younger than 30: None\n",
      "Employees sorted by age: ['Alice', 'Bob', 'Charlie']\n"
     ]
    }
   ],
   "source": [
    "def find_oldest_employee(employees):  \n",
    "    old = max(employees.values(), key = lambda detail : detail[\"age\"])\n",
    "    return [name for name, detail in employees.items() if detail == old]\n",
    "  \n",
    "def calculate_average_age(employees):  \n",
    "    return (sum(detail['age'] for detail in employees.values())/  len(employees.values()))\n",
    "  \n",
    "def employees_younger_than(employees, age_limit=30):  \n",
    "    pass\n",
    "  \n",
    "def sort_employees_by_age(employees):  \n",
    "    return sorted(employees, key = lambda name: employees[name][\"age\"])\n",
    "  \n",
    "\n",
    "print(\"Oldest Employee:\", find_oldest_employee(employee_details))  \n",
    "print(\"Average Age:\", calculate_average_age(employee_details))  \n",
    "print(\"Employees younger than 30:\", employees_younger_than(employee_details))  \n",
    "print(\"Employees sorted by age:\", sort_employees_by_age(employee_details))  "
   ]
  },
  {
   "cell_type": "markdown",
   "metadata": {},
   "source": [
    "### Challenge 3: Performance Rating Analysis\n",
    "\n",
    "* Add a new key to the dictionary to represent the performance rating of each employee.\n",
    "Write a function to identify and display the names of employees with the highest performance rating.\n",
    "Write a function to calculate the average performance rating of all employees and print the result.\n",
    "Write a function to identify and display the names of employees with a rating above 8.\n",
    "Write a function to sort and display the employee names based on their performance rating in descending order."
   ]
  },
  {
   "cell_type": "code",
   "execution_count": 21,
   "metadata": {},
   "outputs": [],
   "source": [
    "# Sample data\n",
    "# Assuming a dictionary of employees named 'employee_details' with performance ratings  \n",
    "employee_details = {  \n",
    "    'Alice': {'salary': 4800, 'age': 28, 'rating': 9},  \n",
    "    'Bob': {'salary': 5200, 'age': 34, 'rating': 6},  \n",
    "    'Charlie': {'salary': 7000, 'age': 41, 'rating': 7}  \n",
    "}  "
   ]
  },
  {
   "cell_type": "code",
   "execution_count": 23,
   "metadata": {},
   "outputs": [
    {
     "name": "stdout",
     "output_type": "stream",
     "text": [
      "Top Performers: None\n",
      "Average Performance Rating: None\n",
      "Employees with rating above 8: None\n",
      "Employees sorted by performance rating (descending): ['Alice', 'Charlie', 'Bob']\n"
     ]
    }
   ],
   "source": [
    "def find_top_performers(employees):  \n",
    "    pass\n",
    "  \n",
    "def calculate_average_rating(employees):  \n",
    "    pass\n",
    "  \n",
    "def employees_above_rating(employees, rating_threshold=8):  \n",
    "    pass\n",
    "  \n",
    "def sort_employees_by_rating(employees):  \n",
    "    return sorted(employees , key = lambda name: employees[name]['rating'], reverse = True)\n",
    "  \n",
    "\n",
    "print(\"Top Performers:\", find_top_performers(employee_details))  \n",
    "print(\"Average Performance Rating:\", calculate_average_rating(employee_details))  \n",
    "print(\"Employees with rating above 8:\", employees_above_rating(employee_details))  \n",
    "print(\"Employees sorted by performance rating (descending):\", sort_employees_by_rating(employee_details))  "
   ]
  },
  {
   "cell_type": "markdown",
   "metadata": {},
   "source": [
    "### Challenge 4: Bonus Calculation\n",
    "Write a function to calculate the bonus amount for each employee (bonus = 10% of their salary).\n",
    "Write a function to identify and display the names of employees who are eligible for a bonus (performance rating above 5).\n",
    "Write a function to sort and display the employee names based on the bonus amount in descending order."
   ]
  },
  {
   "cell_type": "code",
   "execution_count": null,
   "metadata": {},
   "outputs": [],
   "source": [
    "def calculate_bonus(employees):  \n",
    "    pass\n",
    "  \n",
    "def employees_eligible_for_bonus(employees, performance_threshold=5):  \n",
    "    pass\n",
    "  \n",
    "def sort_employees_by_bonus(employees):  \n",
    "    pass\n",
    "  \n",
    "# Assuming the same dictionary 'employee_details'  \n",
    "print(\"Bonus for each employee:\", calculate_bonus(employee_details))  \n",
    "print(\"Employees eligible for bonus (rating above 5):\", employees_eligible_for_bonus(employee_details))  \n",
    "print(\"Employees sorted by bonus amount (descending):\", sort_employees_by_bonus(employee_details))  "
   ]
  },
  {
   "cell_type": "markdown",
   "metadata": {
    "tags": []
   },
   "source": [
    "## Part II: Set"
   ]
  },
  {
   "cell_type": "markdown",
   "metadata": {},
   "source": [
    "### Challenge 1:\n",
    "\n",
    "* Update the set of Computer Science students with students from the Mathematics course.\n",
    "* Create a copy of the updated set.\n",
    "* Add a new student to the copied set.\n",
    "* Remove a student who dropped the course, ensuring no error if the student is not present.\n",
    "* Discard a student who is not actively participating without raising an error if the student is not present.\n",
    "* Clear the set of all students."
   ]
  },
  {
   "cell_type": "code",
   "execution_count": null,
   "metadata": {},
   "outputs": [],
   "source": [
    "LOGIC_HERE = -1\n"
   ]
  },
  {
   "cell_type": "code",
   "execution_count": null,
   "metadata": {},
   "outputs": [],
   "source": [
    "# Initial set of Computer Science students  \n",
    "cs_students = {'Alice', 'Bob', 'Charlie'}  \n",
    "  \n",
    "# Students from Mathematics course  \n",
    "math_students = {'Dave', 'Eve', 'Frank'}  \n",
    "  \n",
    "# Update the set with students from the Mathematics course  \n",
    "LOGIC_HERE\n",
    "  \n",
    "# Create a copy of the set  \n",
    "LOGIC_HERE\n",
    "  \n",
    "# Add a new student  \n",
    "LOGIC_HERE\n",
    "  \n",
    "# Remove a student who dropped the course  \n",
    "LOGIC_HERE\n",
    "\n",
    "  \n",
    "# Discard a student who is not actively participating  \n",
    "LOGIC_HERE\n",
    "\n",
    "  \n",
    "# Clear the set of all students  \n",
    "LOGIC_HERE"
   ]
  },
  {
   "cell_type": "markdown",
   "metadata": {},
   "source": [
    "### Challenge 2:\n",
    "\n",
    "* Extend the set of students to include those involved in various extracurricular activities.\n",
    "* Add students who joined the Robotics Club.\n",
    "* Remove students who left the Chess Club, ensuring no error if the students are not in the set.\n",
    "* Create a copy of the set of students involved in activities.\n",
    "* Pop and display an arbitrary student involved in activities, ensuring no error if the set is empty.\n",
    "* Clear the set of all students involved in activities."
   ]
  },
  {
   "cell_type": "code",
   "execution_count": 25,
   "metadata": {},
   "outputs": [
    {
     "ename": "NameError",
     "evalue": "name 'LOGIC_HERE' is not defined",
     "output_type": "error",
     "traceback": [
      "\u001b[1;31m---------------------------------------------------------------------------\u001b[0m",
      "\u001b[1;31mNameError\u001b[0m                                 Traceback (most recent call last)",
      "\u001b[1;32m~\\AppData\\Local\\Temp\\ipykernel_12876\\3699015825.py\u001b[0m in \u001b[0;36m<module>\u001b[1;34m\u001b[0m\n\u001b[0;32m      9\u001b[0m \u001b[1;33m\u001b[0m\u001b[0m\n\u001b[0;32m     10\u001b[0m \u001b[1;31m# Remove students who left the Chess Club\u001b[0m\u001b[1;33m\u001b[0m\u001b[1;33m\u001b[0m\u001b[0m\n\u001b[1;32m---> 11\u001b[1;33m \u001b[0mLOGIC_HERE\u001b[0m\u001b[1;33m\u001b[0m\u001b[1;33m\u001b[0m\u001b[0m\n\u001b[0m\u001b[0;32m     12\u001b[0m \u001b[1;33m\u001b[0m\u001b[0m\n\u001b[0;32m     13\u001b[0m \u001b[1;31m# Create a copy of the set of students involved in activities\u001b[0m\u001b[1;33m\u001b[0m\u001b[1;33m\u001b[0m\u001b[0m\n",
      "\u001b[1;31mNameError\u001b[0m: name 'LOGIC_HERE' is not defined"
     ]
    }
   ],
   "source": [
    "# Set of students involved in extracurricular activities  \n",
    "activities_students = {'Bob', 'Eve', 'Grace', 'Hannah'}  \n",
    "  \n",
    "# Students who joined the Robotics Club  \n",
    "robotics_club_students = {'Ivan', 'Judy'}  \n",
    "  \n",
    "# Add students to the activities set  \n",
    "activities_students.add('Ravali')\n",
    "\n",
    "# Remove students who left the Chess Club  \n",
    "pass\n",
    "  \n",
    "# Create a copy of the set of students involved in activities  \n",
    "LOGIC_HERE\n",
    "  \n",
    "# Pop and display an arbitrary student involved in activities  \n",
    "LOGIC_HERE\n",
    "  \n",
    "# Clear the set of all students involved in activities  \n",
    "LOGIC_HERE"
   ]
  },
  {
   "cell_type": "markdown",
   "metadata": {},
   "source": [
    "### Challenge 3:\n",
    "\n",
    "* Display students who are both enrolled in the Computer Science course and involved in extracurricular activities.\n",
    "* Display students who are only enrolled in the Computer Science course.\n",
    "* Display students who are only involved in extracurricular activities."
   ]
  },
  {
   "cell_type": "code",
   "execution_count": 29,
   "metadata": {},
   "outputs": [
    {
     "name": "stdout",
     "output_type": "stream",
     "text": [
      "{'Eve', 'Bob'}\n",
      "{'Alice', 'Charlie', 'Frank', 'Dave'}\n",
      "{'Hannah', 'Ivan', 'Judy', 'Grace'}\n"
     ]
    },
    {
     "data": {
      "text/plain": [
       "{'Grace', 'Hannah', 'Ivan', 'Judy'}"
      ]
     },
     "execution_count": 29,
     "metadata": {},
     "output_type": "execute_result"
    }
   ],
   "source": [
    "# Assuming cs_students and activities_students are defined from previous challenges  \n",
    "cs_students = {'Alice', 'Bob', 'Charlie', 'Dave', 'Eve', 'Frank'}  \n",
    "activities_students = {'Bob', 'Eve', 'Grace', 'Hannah', 'Ivan', 'Judy'}  \n",
    "  \n",
    "# Students who are both in Computer Science and activities  \n",
    "print(cs_students & activities_students)\n",
    "\n",
    "  \n",
    "# Students only in Computer Science  \n",
    "print(cs_students - activities_students)\n",
    "  \n",
    "# Students only in activities  \n",
    "print(activities_students-cs_students)\n",
    "activities_students.difference(cs_students)"
   ]
  },
  {
   "cell_type": "markdown",
   "metadata": {},
   "source": [
    "### Challenge 4: Managing Course Enrollments with Sets\n",
    "\n",
    "\n",
    "* Find Students Enrolled in Both Courses\n",
    "* Find Students Only in the Prerequisite Course\n",
    "* Use set difference to find students who are only enrolled in the prerequisite course but not in the Computer Science course.\n",
    "\n",
    "* Bonus Task - Find Students in Either Course but Not Both\n",
    "* Bonus Task - Find Students Not Enrolled in Either Course"
   ]
  },
  {
   "cell_type": "code",
   "execution_count": 34,
   "metadata": {},
   "outputs": [
    {
     "name": "stdout",
     "output_type": "stream",
     "text": [
      "Computer Science:  {'Alice', 'Charlie', 'Diana', 'Bob'}\n",
      "Prerequisite:  {'Eve', 'Charlie', 'Frank', 'Bob'}\n",
      "Students in both Computer Science and the prerequisite course: {'Charlie', 'Bob'}\n",
      "Students only in the prerequisite course: {'Eve', 'Frank'}\n",
      "Students in either the Computer Science course or the prerequisite, but not both: {'Eve', 'Alice', 'Diana', 'Frank'}\n",
      "Students not enrolled in either the Computer Science course or the prerequisite: {'Hannah', 'George'}\n"
     ]
    }
   ],
   "source": [
    "# Sample sets of students  \n",
    "computer_science_students = {'Alice', 'Bob', 'Charlie', 'Diana'}  \n",
    "prerequisite_students = {'Bob', 'Charlie', 'Eve', 'Frank'}  \n",
    "all_students = {'Alice', 'Bob', 'Charlie', 'Diana', 'Eve', 'Frank', 'George', 'Hannah'}  \n",
    "  \n",
    "print(\"Computer Science: \", computer_science_students)\n",
    "print(\"Prerequisite: \", prerequisite_students)\n",
    "\n",
    "# Task 3: Find students in both courses  \n",
    "students_in_both = computer_science_students & prerequisite_students\n",
    "print(\"Students in both Computer Science and the prerequisite course:\", students_in_both)  \n",
    "  \n",
    "# Task 4: Find students only in the prerequisite course  \n",
    "students_only_in_prerequisite = prerequisite_students - computer_science_students\n",
    "print(\"Students only in the prerequisite course:\", students_only_in_prerequisite)  \n",
    "  \n",
    "# Bonus Task 5: Find students in either course but not both  \n",
    "students_in_either_but_not_both = computer_science_students ^ prerequisite_students\n",
    "\n",
    "print(\"Students in either the Computer Science course or the prerequisite, but not both:\", students_in_either_but_not_both)  \n",
    "  \n",
    "# Bonus Task 6: Assuming a set of all students  \n",
    "students_not_in_either_course = all_students - (computer_science_students | prerequisite_students )\n",
    "print(\"Students not enrolled in either the Computer Science course or the prerequisite:\", students_not_in_either_course)  "
   ]
  },
  {
   "cell_type": "markdown",
   "metadata": {
    "tags": []
   },
   "source": [
    "## Part III: Library Management App leveraging Set & Dict"
   ]
  },
  {
   "cell_type": "markdown",
   "metadata": {},
   "source": [
    "### Challenge 1: Library Catalog Management\n",
    " \n",
    "\n",
    "* Display Details of Each Book in the Catalog: Iterate through the dictionary and print the title and author of each book.\n",
    "* Check if a Specific Book is in the Catalog\n",
    "* Add a New Book to the Catalog\n",
    "* Remove a Book from the Catalog (Handle the case where the book is not present by checking existence before removal.)\n",
    "* Update the Details of a Book in the Catalog: Implement a function to update the title and/or author of an existing book in the dictionary.\n",
    "\n",
    "* Bonus Tasks\n",
    "* Implement a function to display the total number of books in the catalog.\n",
    "* Implement a search function to find books by a specific author."
   ]
  },
  {
   "cell_type": "code",
   "execution_count": 36,
   "metadata": {},
   "outputs": [
    {
     "name": "stdout",
     "output_type": "stream",
     "text": [
      "Title: The Great Gatsby, Author: F. Scott Fitzgerald\n",
      "Title: 1984, Author: George Orwell\n",
      "Title: To Kill a Mockingbird, Author: Harper Lee\n"
     ]
    }
   ],
   "source": [
    "# Sample Data\n",
    "  \n",
    "catalog = {  \n",
    "    \"The Great Gatsby\": \"F. Scott Fitzgerald\",  \n",
    "    \"1984\": \"George Orwell\",  \n",
    "    \"To Kill a Mockingbird\": \"Harper Lee\"  \n",
    "}  \n",
    "  \n",
    "# Display Details of Each Book in the Catalog  \n",
    "def display_catalog():  \n",
    "    for title, author in catalog.items():  \n",
    "        print(f\"Title: {title}, Author: {author}\")  \n",
    "        \n",
    "display_catalog()"
   ]
  },
  {
   "cell_type": "code",
   "execution_count": 63,
   "metadata": {},
   "outputs": [],
   "source": [
    "# Check if a Specific Book is in the Catalog  \n",
    "def is_book_in_catalog(title):  \n",
    "    titles = [title for title, author in catalog.items()]\n",
    "    return title in titles\n",
    "  \n",
    "# Add a New Book to the Catalog  \n",
    "def add_book(title, author):  \n",
    "    pass\n",
    "  \n",
    "# Remove a Book from the Catalog  \n",
    "def remove_book(title):  \n",
    "    pass\n",
    "  \n",
    "# Update the Details of a Book in the Catalog  \n",
    "def update_book_details(old_title, new_title=None, new_author=None):  \n",
    "    if old_title in catalog:\n",
    "        if new_title is not  None:\n",
    "            catalog[old_title] = new_author\n",
    "    else:\n",
    "        print(f\"The title {old_title} is not in the library\")\n",
    "        \n",
    "  \n",
    "# Bonus Tasks  \n",
    "# Display the total number of books in the catalog  \n",
    "def total_books():  \n",
    "    pass\n",
    "  \n",
    "# Search function to find books by a specific author  \n",
    "def search_books_by_author(author):  \n",
    "    pass"
   ]
  },
  {
   "cell_type": "code",
   "execution_count": 64,
   "metadata": {},
   "outputs": [
    {
     "name": "stdout",
     "output_type": "stream",
     "text": [
      "Library Catalog:\n",
      "Title: The Great Gatsby, Author: F. Scott Fitzgerald\n",
      "Title: 1984, Author: George Orwell\n",
      "Title: To Kill a Mockingbird, Author: Harper Lee\n",
      "\n",
      "Is '1984' in the catalog?\n",
      "True\n",
      "\n",
      "Adding 'Brave New World' to the catalog.\n",
      "Title: The Great Gatsby, Author: F. Scott Fitzgerald\n",
      "Title: 1984, Author: George Orwell\n",
      "Title: To Kill a Mockingbird, Author: Harper Lee\n",
      "\n",
      "Removing 'To Kill a Mockingbird' from the catalog.\n",
      "Title: The Great Gatsby, Author: F. Scott Fitzgerald\n",
      "Title: 1984, Author: George Orwell\n",
      "Title: To Kill a Mockingbird, Author: Harper Lee\n",
      "\n",
      "Updating 'The Great Gatsby' to 'The Great Gatsby - Revised' by 'F. Scott Fitzgerald'.\n",
      "Title: The Great Gatsby, Author: None\n",
      "Title: 1984, Author: George Orwell\n",
      "Title: To Kill a Mockingbird, Author: Harper Lee\n",
      "\n",
      "Total number of books in the catalog:\n",
      "None\n",
      "\n",
      "Books by George Orwell:\n",
      "None\n"
     ]
    }
   ],
   "source": [
    "print(\"Library Catalog:\")  \n",
    "display_catalog()  \n",
    "\n",
    "print(\"\\nIs '1984' in the catalog?\")  \n",
    "print(is_book_in_catalog(\"1984\"))  \n",
    "\n",
    "print(\"\\nAdding 'Brave New World' to the catalog.\")  \n",
    "add_book(\"Brave New World\", \"Aldous Huxley\")  \n",
    "display_catalog()  \n",
    "\n",
    "print(\"\\nRemoving 'To Kill a Mockingbird' from the catalog.\")  \n",
    "remove_book(\"To Kill a Mockingbird\")  \n",
    "display_catalog()  \n",
    "\n",
    "print(\"\\nUpdating 'The Great Gatsby' to 'The Great Gatsby - Revised' by 'F. Scott Fitzgerald'.\")  \n",
    "update_book_details(\"The Great Gatsby\", new_title=\"The Great Gatsby - Revised\")  \n",
    "display_catalog()  \n",
    "\n",
    "print(\"\\nTotal number of books in the catalog:\")  \n",
    "print(total_books())  \n",
    "\n",
    "print(\"\\nBooks by George Orwell:\")  \n",
    "print(search_books_by_author(\"George Orwell\"))  "
   ]
  },
  {
   "cell_type": "markdown",
   "metadata": {},
   "source": [
    "### Challenge 2: Library Members Management\n",
    "\n",
    "* Display Names of All Library Members\n",
    "* Check if a Specific Person is a Library Member\n",
    "* Add a New Member to the Set\n",
    "* Remove a Member from the Set (Handle the case where the member is not present by checking existence before removal.)\n",
    "\n",
    "* Bonus Tasks\n",
    "* Implement a function to display the total number of library members.\n",
    "* Implement a function to search for members by partial name matches.\n",
    " "
   ]
  },
  {
   "cell_type": "code",
   "execution_count": 41,
   "metadata": {},
   "outputs": [],
   "source": [
    "# Sample Data  \n",
    "members = {\"Alice\", \"Bob\", \"Charlie\"}  \n",
    "  \n",
    "# Display Names of All Library Members  \n",
    "def display_members():  \n",
    "    for member in members:  \n",
    "        print(member)  "
   ]
  },
  {
   "cell_type": "code",
   "execution_count": 51,
   "metadata": {},
   "outputs": [],
   "source": [
    "# Check if a Specific Person is a Library Member  \n",
    "def is_member(name):  \n",
    "    return name in members\n",
    "  \n",
    "# Add a New Member to the Set  \n",
    "def add_member(name):  \n",
    "    members.add(name)\n",
    "  \n",
    "# Remove a Member from the Set  \n",
    "def remove_member(name):  \n",
    "    if name in members:\n",
    "        members.remove(name)\n",
    "\n",
    "# Bonus Tasks  \n",
    "# Display the total number of library members  \n",
    "def total_members():  \n",
    "    len(members)\n",
    "  \n",
    "# Search for members by partial name matches  \n",
    "def search_members_by_partial_name(partial_name):  \n",
    "    return [name for name in members if partial_name.lower() in name.lower()]"
   ]
  },
  {
   "cell_type": "code",
   "execution_count": 52,
   "metadata": {},
   "outputs": [
    {
     "name": "stdout",
     "output_type": "stream",
     "text": [
      "\n",
      "Library Members:\n",
      "Alice\n",
      "Dave\n",
      "Bob\n",
      "\n",
      "Is 'Alice' a member?\n",
      "True\n",
      "\n",
      "Adding 'Dave' to the members.\n",
      "Alice\n",
      "Dave\n",
      "Bob\n",
      "\n",
      "Removing 'Charlie' from the members.\n",
      "Alice\n",
      "Dave\n",
      "Bob\n",
      "\n",
      "Total number of library members:\n",
      "None\n",
      "\n",
      "Members with 'a' in their name:\n",
      "['Alice', 'Dave']\n"
     ]
    }
   ],
   "source": [
    "print(\"\\nLibrary Members:\")  \n",
    "display_members()  \n",
    "\n",
    "print(\"\\nIs 'Alice' a member?\")  \n",
    "print(is_member(\"Alice\"))  \n",
    "\n",
    "print(\"\\nAdding 'Dave' to the members.\")  \n",
    "add_member(\"Dave\")  \n",
    "display_members()  \n",
    "\n",
    "print(\"\\nRemoving 'Charlie' from the members.\")  \n",
    "remove_member(\"Charlie\")  \n",
    "display_members()  \n",
    "\n",
    "print(\"\\nTotal number of library members:\")  \n",
    "print(total_members())  \n",
    "print(\"\\nMembers with 'a' in their name:\")  \n",
    "print(search_members_by_partial_name(\"a\"))  "
   ]
  },
  {
   "cell_type": "markdown",
   "metadata": {},
   "source": [
    "### Challenge 3: Borrowing\n",
    "\n",
    "* Display Books Borrowed by a Specific Member\n",
    "* Check if a Specific Book is Currently Borrowed\n",
    "* Add a New Entry for a Book Being Borrowed\n",
    "* Remove an Entry When a Member Returns a Book (Handle the case where the member or book is not present by checking existence before removal.)\n",
    "* Bonus Tasks\n",
    "* Implement a function to display the total number of borrowed books.\n",
    "* Implement a function to display all members who have currently borrowed books.\n",
    "* Implement a function to list all books currently borrowed and the respective members."
   ]
  },
  {
   "cell_type": "code",
   "execution_count": 56,
   "metadata": {},
   "outputs": [],
   "source": [
    "# Sample Data\n",
    "\n",
    "  \n",
    "borrowed_books = {  \n",
    "    \"Alice\": [\"The Great Gatsby\", \"Power of your Subconscious\"],  \n",
    "    \"Bob\": [\"1984\"]  \n",
    "}  \n",
    "\n",
    "# Display Books Borrowed by a Specific Member  \n",
    "def display_borrowed_books_by_member(member):  \n",
    "    return borrowed_books.get(member, [])  "
   ]
  },
  {
   "cell_type": "code",
   "execution_count": null,
   "metadata": {},
   "outputs": [],
   "source": []
  },
  {
   "cell_type": "code",
   "execution_count": 59,
   "metadata": {},
   "outputs": [],
   "source": [
    "# Check if a Specific Book is Currently Borrowed  \n",
    "def is_book_borrowed(title):  \n",
    "    # all_book = [book for books in list(borrowed_books.values())\n",
    "    #            for book in books]\n",
    "    # return title in all_books\n",
    "    return any(title in books for books in borrowed_books.values())\n",
    "  \n",
    "# Add a New Entry for a Book Being Borrowed  \n",
    "def borrow_book(member, title):  \n",
    "    pass\n",
    "  \n",
    "# Remove an Entry When a Member Returns a Book  \n",
    "def return_book(member, title):  \n",
    "    pass\n",
    "  \n",
    "# Bonus Tasks  \n",
    "# Display the total number of borrowed books  \n",
    "def total_borrowed_books():  \n",
    "    pass\n",
    "  \n",
    "# Display all members who have currently borrowed books  \n",
    "def members_with_borrowed_books():  \n",
    "    pass\n",
    "  \n",
    "# List all books currently borrowed and the respective members  \n",
    "def list_all_borrowed_books():  \n",
    "    pass"
   ]
  },
  {
   "cell_type": "code",
   "execution_count": 60,
   "metadata": {},
   "outputs": [
    {
     "name": "stdout",
     "output_type": "stream",
     "text": [
      "\n",
      "Books borrowed by Alice:\n",
      "['The Great Gatsby', 'Power of your Subconscious']\n",
      "\n",
      "Is '1984' borrowed?\n",
      "True\n",
      "\n",
      "Alice borrows 'Brave New World'.\n",
      "['The Great Gatsby', 'Power of your Subconscious']\n",
      "\n",
      "Alice returns 'The Great Gatsby'.\n",
      "['The Great Gatsby', 'Power of your Subconscious']\n",
      "\n",
      "Total number of borrowed books:\n",
      "None\n",
      "\n",
      "Members who have borrowed books:\n",
      "None\n",
      "\n",
      "List of all borrowed books and their respective members:\n"
     ]
    }
   ],
   "source": [
    "print(\"\\nBooks borrowed by Alice:\")  \n",
    "print(display_borrowed_books_by_member(\"Alice\"))  \n",
    "\n",
    "print(\"\\nIs '1984' borrowed?\")  \n",
    "print(is_book_borrowed(\"1984\"))  \n",
    "\n",
    "print(\"\\nAlice borrows 'Brave New World'.\")  \n",
    "borrow_book(\"Alice\", \"Brave New World\")  \n",
    "print(display_borrowed_books_by_member(\"Alice\"))  \n",
    "\n",
    "print(\"\\nAlice returns 'The Great Gatsby'.\")  \n",
    "return_book(\"Alice\", \"The Great Gatsby\")  \n",
    "print(display_borrowed_books_by_member(\"Alice\"))  \n",
    "\n",
    "print(\"\\nTotal number of borrowed books:\")  \n",
    "print(total_borrowed_books())  \n",
    "\n",
    "print(\"\\nMembers who have borrowed books:\")  \n",
    "print(members_with_borrowed_books())  \n",
    "\n",
    "print(\"\\nList of all borrowed books and their respective members:\")  \n",
    "list_all_borrowed_books()  "
   ]
  },
  {
   "cell_type": "code",
   "execution_count": null,
   "metadata": {},
   "outputs": [],
   "source": []
  }
 ],
 "metadata": {
  "kernelspec": {
   "display_name": "Python 3 (ipykernel)",
   "language": "python",
   "name": "python3"
  },
  "language_info": {
   "codemirror_mode": {
    "name": "ipython",
    "version": 3
   },
   "file_extension": ".py",
   "mimetype": "text/x-python",
   "name": "python",
   "nbconvert_exporter": "python",
   "pygments_lexer": "ipython3",
   "version": "3.12.4"
  }
 },
 "nbformat": 4,
 "nbformat_minor": 4
}
