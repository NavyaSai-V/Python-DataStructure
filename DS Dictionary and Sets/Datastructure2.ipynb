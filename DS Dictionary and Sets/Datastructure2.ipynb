{
 "cells": [
  {
   "cell_type": "markdown",
   "id": "da3ad308",
   "metadata": {},
   "source": [
    "# Creation of Dictionaries"
   ]
  },
  {
   "cell_type": "markdown",
   "id": "774afc5d",
   "metadata": {},
   "source": [
    "### Dictionaries in Python are data structures that store key-value pairs, allowing you to access values by their associated keys\n",
    "### Syntax: my_dict = {'key1': 'value1', 'key2': 'value2', 'key3': 'value3'}\n",
    "\n"
   ]
  },
  {
   "cell_type": "markdown",
   "id": "db917cac",
   "metadata": {},
   "source": [
    "### Basic Disctionary"
   ]
  },
  {
   "cell_type": "code",
   "execution_count": 1,
   "id": "dd6d0363",
   "metadata": {},
   "outputs": [
    {
     "name": "stdout",
     "output_type": "stream",
     "text": [
      "Alice\n",
      "20\n",
      "A\n"
     ]
    }
   ],
   "source": [
    "# Creating a dictionary named student_info\n",
    "student_info = {'name': 'Alice', 'age': 20, 'grade': 'A'}\n",
    "print(student_info['name'])  # Output: Alice\n",
    "print(student_info['age'])   # Output: 20\n",
    "print(student_info['grade']) # Output: A\n"
   ]
  },
  {
   "cell_type": "markdown",
   "id": "13ced7c3",
   "metadata": {},
   "source": [
    "### Dictionary with Mixed Data Types\n"
   ]
  },
  {
   "cell_type": "code",
   "execution_count": 2,
   "id": "02dfd218",
   "metadata": {},
   "outputs": [
    {
     "name": "stdout",
     "output_type": "stream",
     "text": [
      "Bob\n",
      "30\n",
      "HR\n",
      "True\n"
     ]
    }
   ],
   "source": [
    "# Creating a dictionary named employee_details\n",
    "employee_details = {'name': 'Bob', 'age': 30, 'department': 'HR', 'is_manager': True}\n",
    "print(employee_details['name'])        # Output: Bob\n",
    "print(employee_details['age'])         # Output: 30\n",
    "print(employee_details['department'])  # Output: HR\n",
    "print(employee_details['is_manager'])  # Output: True\n"
   ]
  },
  {
   "cell_type": "markdown",
   "id": "cde5ac6b",
   "metadata": {},
   "source": [
    "### Emty Dictionary - They are often used as placeholders when you expect to populate them later in your code "
   ]
  },
  {
   "cell_type": "code",
   "execution_count": null,
   "id": "7adb0a37",
   "metadata": {},
   "outputs": [],
   "source": [
    "# Creating an empty dictionary\n",
    "empty_dict = {}\n"
   ]
  },
  {
   "cell_type": "markdown",
   "id": "10c40e11",
   "metadata": {},
   "source": [
    "# Basic Operations on Dictionaries\n"
   ]
  },
  {
   "cell_type": "markdown",
   "id": "dca30322",
   "metadata": {},
   "source": [
    "### A) Addition"
   ]
  },
  {
   "cell_type": "markdown",
   "id": "78bf7da6",
   "metadata": {},
   "source": [
    "### student_info = {'name': 'Alice', 'age': 22, 'grade': 'A'} # Example Dictionary\n"
   ]
  },
  {
   "cell_type": "markdown",
   "id": "d5d694f1",
   "metadata": {},
   "source": [
    "### Add a Key-Value Pair - You can add a new key-value pair to a dictionary by assigning a value to a new key\n"
   ]
  },
  {
   "cell_type": "code",
   "execution_count": null,
   "id": "4676affd",
   "metadata": {},
   "outputs": [],
   "source": [
    "student_info = {'name': 'Alice', 'age': 22, 'grade': 'A'}  # Example Dictionary\n",
    "student_info['city'] = 'New York'  # Add new key-value pair\n",
    "print(student_info)\n",
    "# Output: {'name': 'Alice', 'age': 22, 'grade': 'A', 'city': 'New York'}\n"
   ]
  },
  {
   "cell_type": "markdown",
   "id": "c849684d",
   "metadata": {},
   "source": [
    "### Update - You can update a dictionary with the contents of another dictionary using the update() method:"
   ]
  },
  {
   "cell_type": "code",
   "execution_count": null,
   "id": "4fe1a0ba",
   "metadata": {},
   "outputs": [],
   "source": [
    "additional_info = {'city': 'New York', 'marks': 95}\n",
    "student_info.update(additional_info) #update a dictionary\n",
    "print(student_info)\n",
    "# Output: {'name': 'Alice', 'age': 22, 'grade': 'A', 'city': 'New York', 'marks': 95}\n"
   ]
  },
  {
   "cell_type": "markdown",
   "id": "8c2fbfdd",
   "metadata": {},
   "source": [
    "### B) Removal\n"
   ]
  },
  {
   "cell_type": "markdown",
   "id": "0ee490eb",
   "metadata": {},
   "source": [
    "### The pop()- This method removes a key from the dictionary and returns its associated value. Here's how it works:"
   ]
  },
  {
   "cell_type": "code",
   "execution_count": null,
   "id": "924f74e4",
   "metadata": {},
   "outputs": [],
   "source": [
    "student_info = {'name': 'Alice', 'age': 22, 'grade': 'A'}  # Example Dictionary\n",
    "removed_age = student_info.pop('age')  # Removes 'age' key and returns its value\n",
    "print(removed_age)  # Output: 22\n",
    "print(student_info)  # Output: {'name': 'Alice', 'grade': 'A'}\n"
   ]
  },
  {
   "cell_type": "markdown",
   "id": "85a4a0a6",
   "metadata": {},
   "source": [
    "### The popitem() - This method removes and returns the last key-value pair from the dictionary as a tuple. "
   ]
  },
  {
   "cell_type": "code",
   "execution_count": 3,
   "id": "e716b426",
   "metadata": {},
   "outputs": [
    {
     "name": "stdout",
     "output_type": "stream",
     "text": [
      "('grade', 'A')\n",
      "{'name': 'Alice', 'age': 22}\n"
     ]
    }
   ],
   "source": [
    "student_info = {'name': 'Alice', 'age': 22, 'grade': 'A'}  # Example Dictionary\n",
    "removed_pair = student_info.popitem()  # Removes and returns the last key-value pair\n",
    "print(removed_pair)  # Output: ('grade', 'A')\n",
    "print(student_info)  # Output: {'name': 'Alice', 'age': 22}\n"
   ]
  },
  {
   "cell_type": "markdown",
   "id": "1967d88c",
   "metadata": {},
   "source": [
    "### The del - This statement allows you to delete a key-value pair from a dictionary. "
   ]
  },
  {
   "cell_type": "code",
   "execution_count": 4,
   "id": "622a85a1",
   "metadata": {},
   "outputs": [
    {
     "name": "stdout",
     "output_type": "stream",
     "text": [
      "{'name': 'Alice', 'age': 22}\n"
     ]
    }
   ],
   "source": [
    "student_info = {'name': 'Alice', 'age': 22, 'grade': 'A'}  # Example Dictionary\n",
    "del student_info['grade']  # Removes the 'grade' key and its associated value\n",
    "print(student_info)  # Output: {'name': 'Alice', 'age': 22}\n"
   ]
  },
  {
   "cell_type": "markdown",
   "id": "0f5947f8",
   "metadata": {},
   "source": [
    "### Checking Membership with in:The in keyword allows you to check if a key is present in a dictionary:"
   ]
  },
  {
   "cell_type": "code",
   "execution_count": null,
   "id": "ab433c61",
   "metadata": {},
   "outputs": [],
   "source": [
    "student_info = {'name': 'Alice', 'age': 22, 'grade': 'A'}  # Example Dictionary\n",
    "is_age_present = 'age' in student_info  # Checking if 'age' is a key in the dictionary\n",
    "print(\"Is 'age' present in the dictionary?\", is_age_present)\n",
    "# Output: Is 'age' present in the dictionary? True\n"
   ]
  },
  {
   "cell_type": "markdown",
   "id": "40f5e595",
   "metadata": {},
   "source": [
    "### The keys() - This method returns an iterable view of keys in the dictionary:"
   ]
  },
  {
   "cell_type": "code",
   "execution_count": null,
   "id": "303ab684",
   "metadata": {},
   "outputs": [],
   "source": [
    "student_info = {'name': 'Alice', 'age': 22, 'grade': 'A'}  # Example Dictionary\n",
    "keys = student_info.keys()  # Returns an iterable view of keys\n",
    "print(\"Keys in the dictionary:\", list(keys))  # Converting iterable view to a list for printing\n",
    "# Output: Keys in the dictionary: ['name', 'age', 'grade']\n"
   ]
  },
  {
   "cell_type": "markdown",
   "id": "f0ef0278",
   "metadata": {},
   "source": [
    "### The values() - This method returns an iterable view of values in the dictionary:"
   ]
  },
  {
   "cell_type": "code",
   "execution_count": 5,
   "id": "ae211a7d",
   "metadata": {},
   "outputs": [
    {
     "name": "stdout",
     "output_type": "stream",
     "text": [
      "Values in the dictionary: ['Alice', 22, 'A']\n"
     ]
    }
   ],
   "source": [
    "student_info = {'name': 'Alice', 'age': 22, 'grade': 'A'}  # Example Dictionary\n",
    "values = student_info.values()  # Returns an iterable view of values\n",
    "print(\"Values in the dictionary:\", list(values))  # Converting iterable view to a list for printing\n",
    "# Output: Values in the dictionary: ['Alice', 22, 'A']\n"
   ]
  },
  {
   "cell_type": "code",
   "execution_count": 6,
   "id": "1e87f3a0-81ba-4215-b041-1fc85c9894c2",
   "metadata": {},
   "outputs": [
    {
     "data": {
      "text/plain": [
       "dict_values"
      ]
     },
     "execution_count": 6,
     "metadata": {},
     "output_type": "execute_result"
    }
   ],
   "source": [
    "type(values)"
   ]
  },
  {
   "cell_type": "markdown",
   "id": "f3523d67",
   "metadata": {},
   "source": [
    "### The items() - This method returns an iterable view of key-value associations (as tuples) in the dictionary"
   ]
  },
  {
   "cell_type": "code",
   "execution_count": null,
   "id": "bcd060be",
   "metadata": {},
   "outputs": [],
   "source": [
    "student_info = {'name': 'Alice', 'age': 22, 'grade': 'A'}  # Example Dictionary\n",
    "items = student_info.items()  # Returns an iterable view of key-value associations\n",
    "print(\"Key-Value Associations in the dictionary:\", list(items))  # Converting iterable view to a list for printing\n",
    "# Output: Key-Value Associations in the dictionary: [('name', 'Alice'), ('age', 22), ('grade', 'A')]\n"
   ]
  },
  {
   "cell_type": "markdown",
   "id": "e76ee01e",
   "metadata": {},
   "source": [
    "# Manipulating Dictionaries\n"
   ]
  },
  {
   "cell_type": "markdown",
   "id": "e5066588",
   "metadata": {},
   "source": [
    "### Sorting Dictionary - Sorting of data reduce the complexity of the data and make queries faster and more efficient."
   ]
  },
  {
   "cell_type": "markdown",
   "id": "c7d6a313",
   "metadata": {},
   "source": [
    "### Sorting Dictionaries by Keys:\n",
    "### To sort a dictionary by keys, you can use the sorted() function along with the items() method to sort the dictionary items (key-value pairs) and then construct a new dictionary from the sorted items:"
   ]
  },
  {
   "cell_type": "code",
   "execution_count": 9,
   "id": "497cb36c",
   "metadata": {},
   "outputs": [
    {
     "name": "stdout",
     "output_type": "stream",
     "text": [
      "{'age': 22, 'grade': 'A', 'name': 'Alice'}\n"
     ]
    }
   ],
   "source": [
    "student_info = {'name': 'Alice', 'age': 22, 'grade': 'A'}  # Example Dictionary\n",
    "sorted_dict = dict(sorted(student_info.items()))  \n",
    "print(sorted_dict)\n",
    "# Output: {'age': 22, 'grade': 'A', 'name': 'Alice'}\n"
   ]
  },
  {
   "cell_type": "markdown",
   "id": "67dd7a3f",
   "metadata": {},
   "source": [
    "### Copying Dictionaries - To create a copy of a dictionary, you can use the copy() method "
   ]
  },
  {
   "cell_type": "code",
   "execution_count": 10,
   "id": "3432f151",
   "metadata": {},
   "outputs": [
    {
     "name": "stdout",
     "output_type": "stream",
     "text": [
      "{'name': 'Alice', 'age': 22, 'grade': 'A'}\n"
     ]
    }
   ],
   "source": [
    "student_info = {'name': 'Alice', 'age': 22, 'grade': 'A'}  # Example Dictionary\n",
    "student_info_copy = student_info.copy()\n",
    "print(student_info_copy)\n",
    "# Output: {'name': 'Alice', 'age': 22, 'grade': 'A'}\n"
   ]
  },
  {
   "cell_type": "markdown",
   "id": "1b4bf133",
   "metadata": {},
   "source": [
    "### Nesting Dictionaries - You can nest dictionaries by having a key in a dictionary refer to another dictionary:"
   ]
  },
  {
   "cell_type": "code",
   "execution_count": null,
   "id": "1f89b4ff",
   "metadata": {},
   "outputs": [],
   "source": [
    "nested_dict = {'person': {'name': 'Alice', 'age': 25, 'city': 'Chicago'}}\n",
    "print(nested_dict)\n",
    "# Output: {'person': {'name': 'Alice', 'age': 25, 'city': 'Chicago'}}\n"
   ]
  },
  {
   "cell_type": "markdown",
   "id": "435ac5ab",
   "metadata": {},
   "source": [
    "# Dictionary Comprehension\n"
   ]
  },
  {
   "cell_type": "markdown",
   "id": "85ba852c",
   "metadata": {},
   "source": [
    "### Concise Creation of Dictionaries:Dictionary comprehension is a concise and elegant way to create dictionaries in Python.\n"
   ]
  },
  {
   "cell_type": "markdown",
   "id": "09878bf0",
   "metadata": {},
   "source": [
    "### Syntax for Dictionary Comprehension:\n",
    "### The general syntax is {key_expression: value_expression for item in iterable}.\n"
   ]
  },
  {
   "cell_type": "markdown",
   "id": "304b85be",
   "metadata": {},
   "source": [
    "### Example\n"
   ]
  },
  {
   "cell_type": "markdown",
   "id": "c4a07cef",
   "metadata": {},
   "source": [
    "### Creating a dictionary with numbers as keys and their squares as values using dictionary comprehension"
   ]
  },
  {
   "cell_type": "code",
   "execution_count": null,
   "id": "ea0da29f",
   "metadata": {},
   "outputs": [],
   "source": [
    "# Creating a dictionary with numbers as keys and their squares as values using dictionary comprehension\n",
    "square_dict = {x: x**2 for x in range(1, 6)}  \n",
    "\n",
    "# Printing the resulting dictionary\n",
    "print(square_dict)\n"
   ]
  },
  {
   "cell_type": "code",
   "execution_count": 12,
   "id": "418e3a2b-c9c2-4562-8d1d-f3e8e0e1303a",
   "metadata": {},
   "outputs": [
    {
     "data": {
      "text/plain": [
       "{1: 1, 2: 4, 3: 9, 4: 16}"
      ]
     },
     "execution_count": 12,
     "metadata": {},
     "output_type": "execute_result"
    }
   ],
   "source": [
    "{x: x**2 for x in range(1,5)}"
   ]
  },
  {
   "cell_type": "code",
   "execution_count": 15,
   "id": "510219b1-303b-4739-b79c-46fcfc25632f",
   "metadata": {},
   "outputs": [
    {
     "data": {
      "text/plain": [
       "{'name': 'Alice', 'age': 25, 'city': 'New York'}"
      ]
     },
     "execution_count": 15,
     "metadata": {},
     "output_type": "execute_result"
    }
   ],
   "source": [
    "{key: val for key, val in zip(keys, values)}"
   ]
  },
  {
   "cell_type": "markdown",
   "id": "1427105d",
   "metadata": {},
   "source": [
    "### Creating a dictionary with numbers as keys and their cubes as values using dictionary comprehension"
   ]
  },
  {
   "cell_type": "code",
   "execution_count": null,
   "id": "80ca34ed",
   "metadata": {},
   "outputs": [],
   "source": [
    "# Creating a dictionary with numbers as keys and their cubes as values using dictionary comprehension\n",
    "cube_dict = {num: num**3 for num in range(1, 6)}\n",
    "\n",
    "# Printing the resulting dictionary\n",
    "print(cube_dict)\n"
   ]
  },
  {
   "cell_type": "markdown",
   "id": "516ae20f",
   "metadata": {},
   "source": [
    "### Using dictionary comprehension to create a dictionary mapping words to their lengths"
   ]
  },
  {
   "cell_type": "code",
   "execution_count": null,
   "id": "6a6209b2",
   "metadata": {},
   "outputs": [],
   "source": [
    "# Using dictionary comprehension to create a dictionary mapping words to their lengths\n",
    "words = ['apple', 'banana', 'orange']\n",
    "word_lengths = {word: len(word) for word in words}\n",
    "print(word_lengths)\n"
   ]
  },
  {
   "cell_type": "markdown",
   "id": "6895d93e",
   "metadata": {},
   "source": [
    "### Using dictionary comprehension to create a dictionary from two lists\n"
   ]
  },
  {
   "cell_type": "code",
   "execution_count": 13,
   "id": "aa5728a0",
   "metadata": {},
   "outputs": [
    {
     "name": "stdout",
     "output_type": "stream",
     "text": [
      "{'name': 'Alice', 'age': 25, 'city': 'New York'}\n"
     ]
    }
   ],
   "source": [
    "# Using dictionary comprehension to create a dictionary from two lists\n",
    "keys = ['name', 'age', 'city']\n",
    "values = ['Alice', 25, 'New York']\n",
    "\n",
    "# Creating a dictionary where elements from the 'keys' list are keys \n",
    "# and elements from the 'values' list are values, using dictionary comprehension\n",
    "info_dict = {keys[i]: values[i] for i in range(len(keys))}\n",
    "\n",
    "# Printing the resulting dictionary\n",
    "print(info_dict)\n"
   ]
  },
  {
   "cell_type": "markdown",
   "id": "b4c1ae52",
   "metadata": {},
   "source": [
    "# Creation of sets"
   ]
  },
  {
   "cell_type": "markdown",
   "id": "78fc1117",
   "metadata": {},
   "source": [
    "### A set in Python is an unordered collection of unique elements.\n",
    "\n"
   ]
  },
  {
   "cell_type": "markdown",
   "id": "87d17b21",
   "metadata": {},
   "source": [
    "### The syntax for creating sets in Python is by using curly braces {} or the set() constructor. "
   ]
  },
  {
   "cell_type": "markdown",
   "id": "935daa87",
   "metadata": {},
   "source": [
    "### Basic Set Creation"
   ]
  },
  {
   "cell_type": "code",
   "execution_count": null,
   "id": "02ff1f7e",
   "metadata": {},
   "outputs": [],
   "source": [
    "# Basic set creation with curly braces\n",
    "colors = {'red', 'green', 'blue', 'yellow'}\n",
    "print(colors)"
   ]
  },
  {
   "cell_type": "markdown",
   "id": "ff6f6b64",
   "metadata": {},
   "source": [
    "### Set with Mixed Data Types"
   ]
  },
  {
   "cell_type": "code",
   "execution_count": null,
   "id": "ca86d861",
   "metadata": {},
   "outputs": [],
   "source": [
    "# Set with mixed data types\n",
    "mixed_set = {1, 'apple', 3.14, (1, 2, 3)}\n",
    "print(mixed_set)"
   ]
  },
  {
   "cell_type": "markdown",
   "id": "8d2218ae",
   "metadata": {},
   "source": [
    "### Using set() Constructor \n"
   ]
  },
  {
   "cell_type": "code",
   "execution_count": null,
   "id": "389fa6da",
   "metadata": {},
   "outputs": [],
   "source": [
    "# Creating a set using the set() constructor with a list\n",
    "fruits_set = set(['apple', 'banana', 'orange'])\n",
    "print(fruits_set)"
   ]
  },
  {
   "cell_type": "markdown",
   "id": "b7cb864f",
   "metadata": {},
   "source": [
    "# Operations on Sets\n"
   ]
  },
  {
   "cell_type": "markdown",
   "id": "1c4349d1",
   "metadata": {},
   "source": [
    "### A) Addition\n",
    "### my_set = {1, 2, 3, 4, 5}\n"
   ]
  },
  {
   "cell_type": "markdown",
   "id": "a0c8ceac",
   "metadata": {},
   "source": [
    "### Update - The update() method adds elements from another iterable (such as a set, list, or tuple) to the set:"
   ]
  },
  {
   "cell_type": "code",
   "execution_count": null,
   "id": "07643798",
   "metadata": {},
   "outputs": [],
   "source": [
    "# Initial set\n",
    "my_set = {1, 2, 3, 4, 5}\n",
    "\n",
    "# Set to update from\n",
    "set_to_update = {5, 6, 7}\n",
    "\n",
    "# Using the update() method to add elements from set_to_update to my_set\n",
    "my_set.update(set_to_update)\n",
    "\n",
    "# Printing the resulting set\n",
    "print(my_set)\n"
   ]
  },
  {
   "cell_type": "markdown",
   "id": "41c7fe4e",
   "metadata": {},
   "source": [
    "### Add - The add() method adds a single element to the set:"
   ]
  },
  {
   "cell_type": "code",
   "execution_count": null,
   "id": "a2cae798",
   "metadata": {},
   "outputs": [],
   "source": [
    "# Initial set\n",
    "my_set = {1, 2, 3, 4, 5}\n",
    "\n",
    "# Adding a new element (8) to the set using the add() method\n",
    "my_set.add(8)\n",
    "\n",
    "# Printing the resulting set\n",
    "print(my_set)\n"
   ]
  },
  {
   "cell_type": "markdown",
   "id": "e2029087",
   "metadata": {},
   "source": [
    "### B) Removal"
   ]
  },
  {
   "cell_type": "markdown",
   "id": "494f4128",
   "metadata": {},
   "source": [
    "### Remove - method to remove a specific element from a set. "
   ]
  },
  {
   "cell_type": "code",
   "execution_count": null,
   "id": "c11a2e83",
   "metadata": {},
   "outputs": [],
   "source": [
    "# Initial set\n",
    "my_set = {1, 2, 3, 4, 5}\n",
    "\n",
    "# Removing the element '3' from the set using the remove method\n",
    "# The remove() method removes a specified element from the set.\n",
    "my_set.remove(3)\n",
    "\n",
    "# Printing the set after removal\n",
    "print(\"Set after removing element '3':\", my_set)\n"
   ]
  },
  {
   "cell_type": "markdown",
   "id": "eaf1a43e",
   "metadata": {},
   "source": [
    "### Pop - method to remove and return an arbitrary element from a set."
   ]
  },
  {
   "cell_type": "code",
   "execution_count": null,
   "id": "ac9cbb6e",
   "metadata": {},
   "outputs": [],
   "source": [
    "# Initial set\n",
    "my_set = {1, 2, 3, 4, 5}\n",
    "\n",
    "# Popping an arbitrary element from the set using the pop method\n",
    "# The pop() method removes and returns an arbitrary element from the set.\n",
    "popped_element = my_set.pop()\n",
    "\n",
    "# Printing the popped element and the set after popping\n",
    "print(\"Popped element:\", popped_element)\n",
    "print(\"Set after popping:\", my_set)\n"
   ]
  },
  {
   "cell_type": "markdown",
   "id": "3495b1ae",
   "metadata": {},
   "source": [
    "### C) Additional Operations\n"
   ]
  },
  {
   "cell_type": "markdown",
   "id": "f68e9f11",
   "metadata": {},
   "source": [
    "### Checking Membership - The 'in' operator checks if a specified element is present in the set."
   ]
  },
  {
   "cell_type": "code",
   "execution_count": null,
   "id": "f3f0413d",
   "metadata": {},
   "outputs": [],
   "source": [
    "# Initial set\n",
    "my_set = {1, 2, 3, 4, 5}\n",
    "\n",
    "# Checking if an element (4) is present in the set using the 'in' operator\n",
    "# The 'in' operator checks if a specified element is present in the set.\n",
    "is_four_present = 4 in my_set\n",
    "\n",
    "# Printing the result\n",
    "print(\"Is 4 present in the set?\", is_four_present)\n"
   ]
  },
  {
   "cell_type": "markdown",
   "id": "26f2a992",
   "metadata": {},
   "source": [
    "# Manipulating Sets \n"
   ]
  },
  {
   "cell_type": "markdown",
   "id": "2460ef66",
   "metadata": {},
   "source": [
    "### Set operations refer to various mathematical operations performed on sets"
   ]
  },
  {
   "cell_type": "markdown",
   "id": "223a5fbf",
   "metadata": {},
   "source": [
    "### Union (|): Combines elements from two sets, resulting in a new set containing all unique elements from both sets."
   ]
  },
  {
   "cell_type": "code",
   "execution_count": null,
   "id": "46ff5baf",
   "metadata": {},
   "outputs": [],
   "source": [
    "# Two sets for demonstration\n",
    "set1 = {1, 2, 3}\n",
    "set2 = {3, 4, 5}\n",
    "\n",
    "# Union operation using the '|' operator\n",
    "# The '|' operator computes the union of two sets, which is a set containing all distinct elements from both sets.\n",
    "union_result = set1 | set2  # Result: {1, 2, 3, 4, 5}\n",
    "\n",
    "# Printing the result\n",
    "print(\"Union of set1 and set2:\", union_result)\n"
   ]
  },
  {
   "cell_type": "markdown",
   "id": "7c87f2ec",
   "metadata": {},
   "source": [
    "### Intersection (&): Computes the set of elements that are common to both sets, resulting in a new set containing only elements that exist in both sets."
   ]
  },
  {
   "cell_type": "code",
   "execution_count": null,
   "id": "0cd48e06",
   "metadata": {},
   "outputs": [],
   "source": [
    "# Two sets for demonstration\n",
    "set1 = {1, 2, 3}\n",
    "set2 = {3, 4, 5}\n",
    "\n",
    "# Intersection operation using the '&' operator\n",
    "# The '&' operator computes the intersection of two sets, resulting in a new set containing elements that are common to both sets.\n",
    "intersection_result = set1 & set2  # Result: {3}\n",
    "\n",
    "# Printing the result\n",
    "print(\"Intersection of set1 and set2:\", intersection_result)\n"
   ]
  },
  {
   "cell_type": "markdown",
   "id": "250b1fa0",
   "metadata": {},
   "source": [
    "### Difference (-): Computes the set of elements that are in one set but not the other, resulting in a new set containing elements that are unique to the first set."
   ]
  },
  {
   "cell_type": "code",
   "execution_count": null,
   "id": "749560d2",
   "metadata": {},
   "outputs": [],
   "source": [
    "# Two sets for demonstration\n",
    "set1 = {1, 2, 3}\n",
    "set2 = {3, 4, 5}\n",
    "\n",
    "# Difference operation using the '-' operator\n",
    "# The '-' operator computes the set of elements that are in set1 but not in set2, resulting in a new set containing elements that are unique to set1.\n",
    "difference_result = set1 - set2  # Result: {1, 2}\n",
    "\n",
    "# Printing the result\n",
    "print(\"Difference between set1 and set2:\", difference_result)\n"
   ]
  },
  {
   "cell_type": "markdown",
   "id": "d4aa8051",
   "metadata": {},
   "source": [
    "### Checking Membership - in operator to check for the presence of an element in a set. "
   ]
  },
  {
   "cell_type": "code",
   "execution_count": null,
   "id": "c4e8e1f5",
   "metadata": {},
   "outputs": [],
   "source": [
    "# Define the fruit_set\n",
    "fruit_set = {'apple', 'banana', 'orange'}\n",
    "\n",
    "# Checking if the element 'banana' is present in the set fruit_set\n",
    "# Returns True if 'banana' is in the set, otherwise returns False\n",
    "is_present = 'banana' in fruit_set\n",
    "\n",
    "# Printing the result\n",
    "print(\"Is 'banana' present in the set?\", is_present)\n"
   ]
  },
  {
   "cell_type": "markdown",
   "id": "1e47794a",
   "metadata": {},
   "source": [
    "## Common Operations on Both Dictionaries and Sets\n"
   ]
  },
  {
   "cell_type": "markdown",
   "id": "9ea5f881",
   "metadata": {},
   "source": [
    "### Dictionary : Iterating Over Items\n"
   ]
  },
  {
   "cell_type": "code",
   "execution_count": null,
   "id": "e948ac24",
   "metadata": {},
   "outputs": [],
   "source": [
    "# Example dictionary\n",
    "my_dict = {'name': 'Alice', 'age': 25, 'city': 'New York'}\n",
    "\n",
    "# Iterating over items in the dictionary using the items() method\n",
    "# The items() method returns a view object that displays a list of a dictionary's key-value pairs as tuples.\n",
    "# In each iteration, 'key' and 'value' represent the key-value pair of the dictionary.\n",
    "for key, value in my_dict.items():\n",
    "    print(key, value)\n"
   ]
  },
  {
   "cell_type": "markdown",
   "id": "f8f4851d",
   "metadata": {},
   "source": [
    "### Set : Iterating Over Items\n"
   ]
  },
  {
   "cell_type": "code",
   "execution_count": null,
   "id": "bd187e6f",
   "metadata": {},
   "outputs": [],
   "source": [
    "# Example set\n",
    "my_set = {1, 2, 3, 4, 5}\n",
    "\n",
    "# Iterating over elements in the set using a for loop\n",
    "# In each iteration, 'element' represents an element of the set.\n",
    "for element in my_set:\n",
    "    print(element)\n"
   ]
  },
  {
   "cell_type": "markdown",
   "id": "d1c5bb41",
   "metadata": {},
   "source": [
    "### Checking Membership\n"
   ]
  },
  {
   "cell_type": "code",
   "execution_count": null,
   "id": "25991e9d",
   "metadata": {},
   "outputs": [],
   "source": [
    "# Checking if 'key' is a key in the dictionary my_dict\n",
    "# Returns True if 'key' is a key in the dictionary, otherwise returns False\n",
    "is_present = 'key' in my_dict\n",
    "\n",
    "# Checking if 'element' is in the set my_set\n",
    "# Returns True if 'element' is in the set, otherwise returns False\n",
    "is_present_set = 'element' in my_set\n",
    "\n",
    "# Printing the results\n",
    "print(\"Is 'key' present in the dictionary?\", is_present)\n",
    "print(\"Is 'element' present in the set?\", is_present_set)\n"
   ]
  },
  {
   "cell_type": "markdown",
   "id": "4de5a671",
   "metadata": {},
   "source": [
    "### Intersection and Differences\n"
   ]
  },
  {
   "cell_type": "markdown",
   "id": "8b53b3f0",
   "metadata": {},
   "source": [
    " ### Intersection identifies what is common, while differences reveal what is unique to each set or dictionary. These operations are useful for comparing and analyzing data structures, identifying shared or unique elements, and performing various set-based operations.\n"
   ]
  },
  {
   "cell_type": "markdown",
   "id": "5ad77d33",
   "metadata": {},
   "source": [
    "### Dictionaries (Keys)\n"
   ]
  },
  {
   "cell_type": "code",
   "execution_count": null,
   "id": "a7a7595f",
   "metadata": {},
   "outputs": [],
   "source": [
    "# Define two dictionaries\n",
    "dict1 = {'a': 1, 'b': 2, 'c': 3}\n",
    "dict2 = {'b': 4, 'c': 5, 'd': 6}\n",
    "\n",
    "# Define two sets\n",
    "set1 = {1, 2, 3, 4, 5}\n",
    "set2 = {4, 5, 6, 7, 8}\n",
    "\n",
    "# Dictionaries (Keys):\n",
    "# Intersection of keys between two dictionaries\n",
    "common_keys = dict1.keys() & dict2.keys()\n",
    "print(\"Common keys between dict1 and dict2:\", common_keys)\n",
    "\n"
   ]
  },
  {
   "cell_type": "markdown",
   "id": "3d7d4c94",
   "metadata": {},
   "source": [
    "### Sets\n"
   ]
  },
  {
   "cell_type": "code",
   "execution_count": null,
   "id": "eacab467",
   "metadata": {},
   "outputs": [],
   "source": [
    "# Define two dictionaries\n",
    "dict1 = {'a': 1, 'b': 2, 'c': 3}\n",
    "dict2 = {'b': 4, 'c': 5, 'd': 6}\n",
    "\n",
    "# Define two sets\n",
    "set1 = {1, 2, 3, 4, 5}\n",
    "set2 = {4, 5, 6, 7, 8}\n",
    "\n",
    "# Sets:\n",
    "# Common elements between two sets\n",
    "set_intersection = set1 & set2\n",
    "print(\"Common elements between set1 and set2:\", set_intersection)\n",
    "\n",
    "# Elements in set1 but not in set2\n",
    "set_difference = set1 - set2\n",
    "print(\"Elements in set1 but not in set2:\", set_difference)"
   ]
  },
  {
   "cell_type": "code",
   "execution_count": null,
   "id": "d0f74d2f",
   "metadata": {},
   "outputs": [],
   "source": []
  }
 ],
 "metadata": {
  "kernelspec": {
   "display_name": "Python 3 (ipykernel)",
   "language": "python",
   "name": "python3"
  },
  "language_info": {
   "codemirror_mode": {
    "name": "ipython",
    "version": 3
   },
   "file_extension": ".py",
   "mimetype": "text/x-python",
   "name": "python",
   "nbconvert_exporter": "python",
   "pygments_lexer": "ipython3",
   "version": "3.12.4"
  }
 },
 "nbformat": 4,
 "nbformat_minor": 5
}
