{
 "cells": [
  {
   "cell_type": "markdown",
   "id": "57a38b59",
   "metadata": {},
   "source": [
    "## Python Quest: The Data Wizard’s Challenges  \n",
    "  \n",
    "Welcome to the mystical realm of Pylandia, where you, the brave Data Wizard, are on a quest to bring order and insight to the chaotic land of data. Your journey will take you through four enchanted forests, each with its unique challenges. You must use your Python magic to conquer these tasks and uncover the secrets hidden within the data. Are you ready? Let’s begin!  \n"
   ]
  },
  {
   "cell_type": "markdown",
   "id": "4f2e0bf3",
   "metadata": {},
   "source": [
    "### > Use only List Comprehensions, wherever possible"
   ]
  },
  {
   "cell_type": "markdown",
   "id": "bb40a22e",
   "metadata": {},
   "source": [
    "### I. Lists"
   ]
  },
  {
   "cell_type": "markdown",
   "id": "e596a1eb",
   "metadata": {},
   "source": [
    "### Challenge 1: The Enchanted School of Scores  \n",
    "  \n",
    "**Scenario:**  \n",
    "  \n",
    "You arrive at the Enchanted School, where the headmaster, Professor Algor, needs your help. The students' scores have been scattered across the magical blackboard, and it's your job to make sense of them.  \n",
    "  \n",
    "**Tasks:**  \n",
    "  \n",
    "- **Find the Highest Score:** Use your magic to reveal the student with the highest score.  \n",
    "- **Calculate the Average Score:** Summon the average score to present to Professor Algor.  \n",
    "- **Identify Top Performers:** The headmaster wants to reward students scoring above 80. Can you find these top performers?  \n",
    "- **Sort Student Names:** The class list is in disarray. Sort the student names to restore order.  \n",
    "  \n",
    "**Bonus Task:**  \n",
    "  \n",
    "- **Find the Median Score:** The true balance of the class lies in the median score. Can you uncover it?  "
   ]
  },
  {
   "cell_type": "code",
   "execution_count": 52,
   "id": "f4a6fa9d",
   "metadata": {},
   "outputs": [],
   "source": [
    "# Sample data\n",
    "\n",
    "students = [\n",
    "    {\"name\": \"Alice\", \"score\": 85},\n",
    "    {\"name\": \"Bob\", \"score\": 78},\n",
    "    {\"name\": \"Charlie\", \"score\": 92},\n",
    "    {\"name\": \"David\", \"score\": 88},  \n",
    "    {\"name\": \"Eve\", \"score\": 76}  ,\n",
    "    {\"name\": \"Even\", \"score\": 79}\n",
    "]  \n",
    "threshold = 80"
   ]
  },
  {
   "cell_type": "code",
   "execution_count": 55,
   "id": "644474cb",
   "metadata": {},
   "outputs": [
    {
     "name": "stdout",
     "output_type": "stream",
     "text": [
      "Highest Score: 92\n",
      "Average Score: 83.0\n",
      "Top Performers: [('Alice', 85), ('Charlie', 92), ('David', 88)]\n",
      "Sorted Names: ['Alice', 'Bob', 'Charlie', 'David', 'Eve', 'Even']\n",
      "Median Score: 86.5\n"
     ]
    }
   ],
   "source": [
    "def highest_score(students):  \n",
    "    return max([student['score'] for student in students])\n",
    "  \n",
    "def average_score(students):  \n",
    "    return sum([student['score'] for student in students])/ len(students)\n",
    "  \n",
    "def top_performers(students, threshold):  \n",
    "    return [(student['name'],student['score']) for student in students if student['score'] > threshold]\n",
    "    \n",
    "  \n",
    "def sorted_names(students):  \n",
    "    return sorted([student['name'] for student in students])\n",
    "  \n",
    "def median_score(students):  \n",
    "    scores = sorted([student['score'] for student in students])\n",
    "    if len(students) % 2 == 0:\n",
    "        m1 = scores[len(students) // 2]\n",
    "        m2 = scores[(len(students) // 2) + 1]\n",
    "        return (m1 + m2)/2\n",
    "    else:\n",
    "        return scores[len(students) // 2]\n",
    "\n",
    "print(\"Highest Score:\", highest_score(students))  \n",
    "print(\"Average Score:\", average_score(students))  \n",
    "print(\"Top Performers:\", top_performers(students, threshold))  \n",
    "print(\"Sorted Names:\", sorted_names(students))  \n",
    "print(\"Median Score:\", median_score(students))  "
   ]
  },
  {
   "cell_type": "code",
   "execution_count": 57,
   "id": "7da89205-4b39-4299-b976-2e7baacf78c8",
   "metadata": {},
   "outputs": [
    {
     "name": "stdout",
     "output_type": "stream",
     "text": [
      "Highest Score: 92\n"
     ]
    }
   ],
   "source": [
    "def highest_score(students):  \n",
    "    scores = [student['score'] for student in students]\n",
    "    return max(scores)\n",
    "print(\"Highest Score:\", highest_score(students))  "
   ]
  },
  {
   "cell_type": "markdown",
   "id": "94f8d2b8",
   "metadata": {},
   "source": [
    "### Challenge 2: The Forest of Numbers  \n",
    "  \n",
    "**Scenario:**  \n",
    "  \n",
    "Venturing deeper into Pylandia, you find yourself in the Forest of Numbers. The forest spirits have tasked you with generating magical lists that will aid the villagers in their daily calculations.  \n",
    "  \n",
    "**Tasks:**  \n",
    "  \n",
    "- **Generate Squares:** Create a list of squares from 1 to 10.  \n",
    "- **Generate Cubes:** Create a list of cubes from 1 to 10.  \n",
    "  \n",
    "**Bonus Task:**  \n",
    "  \n",
    "- **Combine Both Lists:** Merge the powers of squares and cubes into a single magical dictionary. \n",
    "\n",
    "```python\n",
    "# Sample Output:\n",
    "squares = [1, 4, 9, 16, 25]  \n",
    "cubes = [1, 8, 27, 64, 125]  \n",
    "combined = {1: (1, 1), 2: (4, 8), 3: (9, 27), 4: (16, 64), 5: (25, 125)}\n",
    "```"
   ]
  },
  {
   "cell_type": "code",
   "execution_count": null,
   "id": "1533e64f",
   "metadata": {},
   "outputs": [],
   "source": [
    "INPUT_HERE = -1 # Replace this with your logic"
   ]
  },
  {
   "cell_type": "code",
   "execution_count": 63,
   "id": "9ebf74ea",
   "metadata": {},
   "outputs": [
    {
     "name": "stdout",
     "output_type": "stream",
     "text": [
      "Squares: [0, 1, 4, 9, 16, 25, 36, 49, 64, 81]\n",
      "Cubes: [0, 1, 8, 27, 64, 125, 216, 343, 512, 729]\n",
      "Combined: {1: (0, 0), 2: (1, 1), 3: (4, 8), 4: (9, 27), 5: (16, 64), 6: (25, 125), 7: (36, 216), 8: (49, 343), 9: (64, 512), 10: (81, 729)}\n"
     ]
    }
   ],
   "source": [
    "squares = [x**2 for x in range(10)]\n",
    "cubes = [x**3 for x in range(10)]\n",
    "combined = {i: (sqr_val, cub_val) for i, (sqr_val, cub_val) in enumerate(zip(squares, cubes),1)}\n",
    "  \n",
    "print(\"Squares:\", squares)  \n",
    "print(\"Cubes:\", cubes)  \n",
    "print(\"Combined:\", combined)  "
   ]
  },
  {
   "cell_type": "code",
   "execution_count": 19,
   "id": "46f44e83-a00f-4d53-8bc0-81f0cb186fc1",
   "metadata": {},
   "outputs": [
    {
     "data": {
      "text/plain": [
       "[(0, 0),\n",
       " (1, 1),\n",
       " (4, 8),\n",
       " (9, 27),\n",
       " (16, 64),\n",
       " (25, 125),\n",
       " (36, 216),\n",
       " (49, 343),\n",
       " (64, 512),\n",
       " (81, 729)]"
      ]
     },
     "execution_count": 19,
     "metadata": {},
     "output_type": "execute_result"
    }
   ],
   "source": [
    "[(square_v, cubes_v) for square_v, cubes_v in zip(squares,cubes) ]"
   ]
  },
  {
   "cell_type": "code",
   "execution_count": 67,
   "id": "be3d077e-945c-40e7-8d0f-84dc13cb70f0",
   "metadata": {},
   "outputs": [
    {
     "data": {
      "text/plain": [
       "{1: (0, 0),\n",
       " 2: (1, 1),\n",
       " 3: (4, 8),\n",
       " 4: (9, 27),\n",
       " 5: (16, 64),\n",
       " 6: (25, 125),\n",
       " 7: (36, 216),\n",
       " 8: (49, 343),\n",
       " 9: (64, 512),\n",
       " 10: (81, 729)}"
      ]
     },
     "execution_count": 67,
     "metadata": {},
     "output_type": "execute_result"
    }
   ],
   "source": [
    "combined = {idx:(square_v, cubes_v) for idx, (square_v, cubes_v) in enumerate(zip(squares,cubes) ,1)}\n",
    "combined"
   ]
  },
  {
   "cell_type": "code",
   "execution_count": null,
   "id": "76826ec8",
   "metadata": {},
   "outputs": [],
   "source": []
  },
  {
   "cell_type": "markdown",
   "id": "0b686b9f",
   "metadata": {},
   "source": [
    "### Challenge 3: The Valley of Positivity  \n",
    "  \n",
    "**Scenario:**  \n",
    "  \n",
    "As you traverse the Valley of Positivity, you encounter a group of merchants who are struggling to separate their profitable transactions from their losses. They need your help to filter out the negative values from their records.  \n",
    "  \n",
    "**Tasks:**  \n",
    "  \n",
    "- **Filter Positive Numbers:** Use your magic to create a list containing only the positive numbers from their transactions.  \n",
    "  \n",
    "**Bonus Task:**  \n",
    "  \n",
    "- **Count Positives and Negatives:** Provide the merchants with a count of their positive and negative transactions to help them better understand their finances."
   ]
  },
  {
   "cell_type": "code",
   "execution_count": 27,
   "id": "e547f1f2",
   "metadata": {},
   "outputs": [],
   "source": [
    "# Sample data\n",
    "numbers = [-10, 15, -20, 25, 30, -35, 40]  "
   ]
  },
  {
   "cell_type": "code",
   "execution_count": 69,
   "id": "b56d028e",
   "metadata": {},
   "outputs": [
    {
     "name": "stdout",
     "output_type": "stream",
     "text": [
      "Positive Numbers: [15, 25, 30, 40]\n",
      "Number of Positives: 4\n",
      "Number of Negatives: 3\n"
     ]
    }
   ],
   "source": [
    "positive_numbers  = [p_num for p_num in numbers if p_num>0]\n",
    "  \n",
    "def count_positives_and_negatives(numbers):  \n",
    "    negatives = sum([1 for num in numbers if num < 0])\n",
    "    positives = sum([1 for num in numbers if num > 0])\n",
    "    return positives, negatives\n",
    "  \n",
    "positives, negatives = count_positives_and_negatives(numbers)  \n",
    "  \n",
    "print(\"Positive Numbers:\", positive_numbers)  \n",
    "print(\"Number of Positives:\", positives)  \n",
    "print(\"Number of Negatives:\", negatives)  \n"
   ]
  },
  {
   "cell_type": "code",
   "execution_count": null,
   "id": "b7aa96a0",
   "metadata": {},
   "outputs": [],
   "source": []
  },
  {
   "cell_type": "markdown",
   "id": "14ea5c36",
   "metadata": {},
   "source": [
    "### Challenge 4: The Alphabetical Ascension  \n",
    "  \n",
    "**Scenario:**  \n",
    "  \n",
    "Your final challenge leads you to the towering Alphabetical Mountain, where the names of students from the nearby village are inscribed in a chaotic manner. The village elder, Sage Lexicon, requests your assistance in organizing these names.  \n",
    "  \n",
    "**Tasks:**  \n",
    "  \n",
    "- **Sort Names:** Use your magic to sort the names alphabetically.  \n",
    "  \n",
    "**Bonus Task:**  \n",
    "  \n",
    "- **Sort by Last Name:** If the names include both first and last names, sort them by their last names to bring true order to the names.\n",
    "- **Sort by both Last Name & First Name** If the names include both first and last names, sort them by their first names first and then their last names"
   ]
  },
  {
   "cell_type": "code",
   "execution_count": 34,
   "id": "b6a89b5b",
   "metadata": {},
   "outputs": [],
   "source": [
    "# Sample Data\n",
    "\n",
    "student_names = [\"Alice Johnson\", \"Bob Smith\", \"Charlie Brown\", \"David Brown\", \"Eve Davis\",  \"Charles Smith\", \"Bob Johnson\"]  "
   ]
  },
  {
   "cell_type": "code",
   "execution_count": 71,
   "id": "ba94ee7d",
   "metadata": {},
   "outputs": [
    {
     "name": "stdout",
     "output_type": "stream",
     "text": [
      "Sorted Names: ['Alice Johnson', 'Bob Johnson', 'Bob Smith', 'Charles Smith', 'Charlie Brown', 'David Brown', 'Eve Davis']\n",
      "Sorted by Last Name: [['Alice', 'Johnson'], ['Bob', 'Smith'], ['Charlie', 'Brown'], ['David', 'Brown'], ['Eve', 'Davis'], ['Charles', 'Smith'], ['Bob', 'Johnson']]\n"
     ]
    }
   ],
   "source": [
    "sorted_names = sorted(student_names)\n",
    "  \n",
    "# Bonus Task: Sort by Last Name  \n",
    "sorted_by_last_name = [names.split() for names in student_names ]\n",
    "  \n",
    "print(\"Sorted Names:\", sorted_names)  \n",
    "print(\"Sorted by Last Name:\", sorted_by_last_name)"
   ]
  },
  {
   "cell_type": "code",
   "execution_count": 72,
   "id": "8a4a77e8-c92f-48d7-8805-b1c42c0779ca",
   "metadata": {},
   "outputs": [
    {
     "data": {
      "text/plain": [
       "['Charlie Brown',\n",
       " 'David Brown',\n",
       " 'Eve Davis',\n",
       " 'Alice Johnson',\n",
       " 'Bob Johnson',\n",
       " 'Bob Smith',\n",
       " 'Charles Smith']"
      ]
     },
     "execution_count": 72,
     "metadata": {},
     "output_type": "execute_result"
    }
   ],
   "source": [
    "student_names = [\"Alice Johnson\", \"Bob Smith\", \"Charlie Brown\", \"David Brown\", \"Eve Davis\",  \"Charles Smith\", \"Bob Johnson\"]  \n",
    "sorted_by_last_name = sorted(student_names, key = lambda name:name.split()[-1])\n",
    "sorted_by_last_name"
   ]
  },
  {
   "cell_type": "code",
   "execution_count": null,
   "id": "d388d895-36e0-451e-9d27-c775d33fd459",
   "metadata": {},
   "outputs": [],
   "source": []
  },
  {
   "cell_type": "code",
   "execution_count": 77,
   "id": "e6614b15",
   "metadata": {},
   "outputs": [
    {
     "name": "stdout",
     "output_type": "stream",
     "text": [
      "Sorted Names: ['Alice Johnson', 'Bob Johnson', 'Bob Smith', 'Charles Smith', 'Charlie Brown', 'David Brown', 'Eve Davis']\n",
      "Sorted by Last Name: ['Charlie Brown', 'David Brown', 'Eve Davis', 'Alice Johnson', 'Bob Johnson', 'Bob Smith', 'Charles Smith']\n",
      "Sorted by both: ['Alice Johnson', 'Bob Johnson', 'Bob Smith', 'Charles Smith', 'Charlie Brown', 'David Brown', 'Eve Davis']\n"
     ]
    }
   ],
   "source": [
    "# Bonus Task 2: Sort by Last Name  & First Name\n",
    "sorted_by_both = sorted(student_names, key = lambda name: (name.split()[0],name.split()[-1]))\n",
    "\n",
    "print(\"Sorted Names:\", sorted_names)  \n",
    "print(\"Sorted by Last Name:\", sorted_by_last_name)\n",
    "print(\"Sorted by both:\", sorted_by_both)"
   ]
  },
  {
   "cell_type": "code",
   "execution_count": null,
   "id": "87257e4b",
   "metadata": {},
   "outputs": [],
   "source": []
  },
  {
   "cell_type": "markdown",
   "id": "90734b0d",
   "metadata": {},
   "source": [
    "### II. Tuples"
   ]
  },
  {
   "cell_type": "markdown",
   "id": "9ba03429",
   "metadata": {},
   "source": [
    "  \n",
    "### Challenge 1: Course Enrollment  \n",
    "  \n",
    "**Scenario:**  \n",
    "  \n",
    "You find yourself at the Academy of Learning, where courses need to be managed meticulously. Each course has a unique identifier, a list of enrolled students, and their corresponding grades. The head tutor, Professor Tupleton, seeks your help to manage this data efficiently.  \n",
    "  \n",
    "**Tasks:**  \n",
    "  \n",
    "- **Create Course Tuple:** Construct a tuple for a course containing its identifier, a list of enrolled students, and their grades.  \n",
    "- **Display Course Information:** Reveal the course information, including the average grade of the students.  \n",
    "- **Identify Top Student:** Find and display the student with the highest grade in the course.  \n",
    "- **Update Student Grade:** Change the grade of a specific student and show the updated course information.  \n",
    "  \n",
    "**Bonus Task:**  \n",
    "  \n",
    "- **Add New Student:** Add a new student to the course along with their grade and display the updated course information.  \n",
    "\n",
    " \n"
   ]
  },
  {
   "cell_type": "code",
   "execution_count": 7,
   "id": "c48ad1dd",
   "metadata": {},
   "outputs": [],
   "source": [
    "# 1. Create Course Tuple:\n",
    "\n",
    "course = (\"CS101\", [(\"Alice\", 90), (\"Bob\", 85), (\"Charlie\", 92)])  "
   ]
  },
  {
   "cell_type": "code",
   "execution_count": 17,
   "id": "e1385fb7",
   "metadata": {},
   "outputs": [
    {
     "name": "stdout",
     "output_type": "stream",
     "text": [
      "Course name is CS101\n",
      "Students name is Alice | Grades 90\n",
      "Students name is Bob | Grades 88\n",
      "Students name is Charlie | Grades 92\n"
     ]
    }
   ],
   "source": [
    "# 2. Display Course Information\n",
    "\n",
    "def display_course_info(course):  \n",
    "    course_name , students = course\n",
    "    print(f\"Course name is {course_name}\")\n",
    "    for names, scores in students:\n",
    "        print(f\"Students name is {names} | Grades {scores}\")\n",
    "  \n",
    "display_course_info(course)  "
   ]
  },
  {
   "cell_type": "code",
   "execution_count": 19,
   "id": "30ddd2b2",
   "metadata": {},
   "outputs": [
    {
     "data": {
      "text/plain": [
       "92"
      ]
     },
     "execution_count": 19,
     "metadata": {},
     "output_type": "execute_result"
    }
   ],
   "source": [
    "# 3. Identify top score\n",
    "\n",
    "def identify_top_scorer(course):  \n",
    "    course_name , students = course\n",
    "    return max([score for name,score in students])\n",
    "    \n",
    "  \n",
    "identify_top_scorer(course)"
   ]
  },
  {
   "cell_type": "code",
   "execution_count": 21,
   "id": "afc199fe-3d36-4590-99b8-caa47864ba8c",
   "metadata": {},
   "outputs": [
    {
     "name": "stdout",
     "output_type": "stream",
     "text": [
      "('CS101', [('Alice', 90), ('Bob', 88), ('Charlie', 92)])\n"
     ]
    }
   ],
   "source": [
    "print(course)"
   ]
  },
  {
   "cell_type": "code",
   "execution_count": 23,
   "id": "2455fbe6-60f3-4687-b259-69176830cd1b",
   "metadata": {},
   "outputs": [
    {
     "name": "stdout",
     "output_type": "stream",
     "text": [
      "Course name is CS101\n",
      "Student name is Alice | Grade is 90\n",
      "Student name is Bob | Grade is 88\n",
      "Student name is Charlie | Grade is 92\n",
      "Course name is CS101\n",
      "Students name is Alice | Grades 90\n",
      "Students name is Bob | Grades 88\n",
      "Students name is Charlie | Grades 92\n"
     ]
    }
   ],
   "source": [
    "# 4. Update Student Grade\n",
    "\n",
    "def update_student_grade(course, student_name, new_grade):  \n",
    "    course_name, students = course\n",
    "    print(f\"Course name is {course_name}\")\n",
    "    for i, (names, scores) in enumerate(students):\n",
    "        if names == student_name:\n",
    "            students[i] = (names, new_grade)\n",
    "        print(f\"Student name is {names} | Grade is {scores}\")\n",
    "    return (course_name, students)\n",
    "        \n",
    "  \n",
    "course = update_student_grade(course, \"Bob\", 88)  \n",
    "display_course_info(course)  "
   ]
  },
  {
   "cell_type": "code",
   "execution_count": 29,
   "id": "a4d04e86-4b40-4da9-830c-9b42397ff5f0",
   "metadata": {},
   "outputs": [
    {
     "name": "stdout",
     "output_type": "stream",
     "text": [
      "('CS101', [('Alice', 90), ('Bob', 90), ('Charlie', 92), ('David', 91)])\n"
     ]
    }
   ],
   "source": [
    "def update_grade(course, student_name, new_grade):\n",
    "    Course, students = course\n",
    "    for i, (name, grade) in enumerate(students):\n",
    "        if name == student_name:\n",
    "            students[i] = (name, new_grade)\n",
    "    return (Course, students)\n",
    "        \n",
    "\n",
    "course = update_grade(course, \"Bob\", 90)\n",
    "print(course)"
   ]
  },
  {
   "cell_type": "code",
   "execution_count": 27,
   "id": "3bdfa2de",
   "metadata": {},
   "outputs": [
    {
     "name": "stdout",
     "output_type": "stream",
     "text": [
      "Course name is CS101\n",
      "Students name is Alice | Grades 90\n",
      "Students name is Bob | Grades 88\n",
      "Students name is Charlie | Grades 92\n",
      "Students name is David | Grades 91\n",
      "Course name is CS101\n",
      "Students name is Alice | Grades 90\n",
      "Students name is Bob | Grades 88\n",
      "Students name is Charlie | Grades 92\n",
      "Students name is David | Grades 91\n",
      "('CS101', [('Alice', 90), ('Bob', 88), ('Charlie', 92), ('David', 91)])\n"
     ]
    }
   ],
   "source": [
    "# Bonus Task:\n",
    "\n",
    "# 5. Add New Student:\n",
    "\n",
    "def add_new_student(course, student_name, grade):  \n",
    "    course_name, students =  course\n",
    "    print(f\"Course name is {course_name}\")\n",
    "    students.append((student_name,grade))\n",
    "    for names, scores in students:\n",
    "        print(f\"Students name is {names} | Grades {scores}\")\n",
    "    return (course_name, students)\n",
    "  \n",
    "course = add_new_student(course, \"David\", 91)  \n",
    "display_course_info(course) \n",
    "print(course)"
   ]
  },
  {
   "cell_type": "code",
   "execution_count": null,
   "id": "996a1e1d",
   "metadata": {},
   "outputs": [],
   "source": []
  },
  {
   "cell_type": "markdown",
   "id": "0ce28e31",
   "metadata": {},
   "source": [
    "### Challenge 2: Filtered Student Information  \n",
    "  \n",
    "**Scenario:**  \n",
    "  \n",
    "In the bustling city of Tupleopolis, you encounter a school administrator who needs to manage student records. You have a list of student names, their ages, and their grades. The administrator asks for your assistance in filtering and displaying specific student information.  \n",
    "  \n",
    "**Tasks:**  \n",
    "  \n",
    "- **Create Student Tuples:** Form a list of tuples where each tuple contains a student's name, age, and grade.  \n",
    "- **Display Student Tuples:** Present the list of student tuples.  \n",
    "- **Filter by Age:** Filter and display only the information of students who are above a certain age.  \n",
    "  \n",
    "**Bonus Task:**  \n",
    "  \n",
    "- **Find Top Scorer:** Identify and display the student with the highest grade among those above the specified age.  \n"
   ]
  },
  {
   "cell_type": "code",
   "execution_count": 31,
   "id": "19cdd098",
   "metadata": {},
   "outputs": [
    {
     "name": "stdout",
     "output_type": "stream",
     "text": [
      "Student name is Alice | Age is 20 | Grade is 90\n",
      "Student name is Bob | Age is 19 | Grade is 85\n",
      "Student name is Charlie | Age is 22 | Grade is 92\n",
      "Student name is David | Age is 18 | Grade is 98\n"
     ]
    }
   ],
   "source": [
    "# 1.  Create Student Tuples:\n",
    "\n",
    "students = [(\"Alice\", 20, 90), (\"Bob\", 19, 85), (\"Charlie\", 22, 92), (\"David\", 18, 98)]  \n",
    " \n",
    "# 2. Display Student Tuples:\n",
    "\n",
    "def display_students(students):  \n",
    "    for (name, age, grade) in students:\n",
    "        print(f\"Student name is {name} | Age is {age} | Grade is {grade}\")\n",
    "  \n",
    "display_students(students)  "
   ]
  },
  {
   "cell_type": "code",
   "execution_count": 51,
   "id": "f714eba7",
   "metadata": {},
   "outputs": [
    {
     "name": "stdout",
     "output_type": "stream",
     "text": [
      "Student name is Alice | Age is 20 | Grade is 90\n",
      "Student name is Charlie | Age is 22 | Grade is 92\n"
     ]
    }
   ],
   "source": [
    " # 3. Filter by Age:\n",
    "filtered_students = []\n",
    "def filter_by_age(students, age_threshold):  \n",
    "    for (name, age, grade) in students:\n",
    "        if age >= age_threshold:\n",
    "             #print(f\"Student name is {name} | Age is {age} | Grade is {grade}\") \n",
    "             filtered_students.append((name,age,grade))\n",
    "    return filtered_students\n",
    "  \n",
    "filtered_students = filter_by_age(students, 20)  \n",
    "display_students(filtered_students)  "
   ]
  },
  {
   "cell_type": "code",
   "execution_count": 59,
   "id": "893e5c6c",
   "metadata": {},
   "outputs": [
    {
     "name": "stdout",
     "output_type": "stream",
     "text": [
      "Student name Charlie with maximum grade 92\n"
     ]
    }
   ],
   "source": [
    "# Bonus Task:\n",
    "\n",
    "# 4. Find Top Scorer:\n",
    "\n",
    "def find_top_scorer(students): \n",
    "    max_grade = 0\n",
    "    for (name, age, grade) in students:\n",
    "        if grade > max_grade:\n",
    "            max_grade = grade\n",
    "    print(f\"Student name {name} with maximum grade {grade}\")\n",
    "        \n",
    "  \n",
    "find_top_scorer(filtered_students)"
   ]
  },
  {
   "cell_type": "code",
   "execution_count": null,
   "id": "2f4c0cc9",
   "metadata": {},
   "outputs": [],
   "source": []
  },
  {
   "cell_type": "markdown",
   "id": "8a9a9f72",
   "metadata": {},
   "source": [
    "### Challenge 3: Employee Salary Calculation  \n",
    "  \n",
    "**Scenario:**  \n",
    "  \n",
    "As you journey through the industrious region of Salaryville, you meet a factory manager in need of help with payroll. Each employee is represented as a tuple containing their name, hourly rate, and hours worked. The manager seeks your expertise to calculate salaries and analyze payroll data.  \n",
    "  \n",
    "**Tasks:**  \n",
    "  \n",
    "- **Calculate Salaries:** Compute and display the total salary for each employee.  \n",
    "- **Identify Top Earner:** Find and display the employee with the highest total salary.  \n",
    "- **Average Salary:** Calculate and show the average total salary of all employees.  \n",
    "  \n",
    "**Bonus Task:**  \n",
    "  \n",
    "- **Overtime Calculation:** Identify employees who worked more than 40 hours and calculate their overtime pay (1.5 times the hourly rate for hours over 40).  \n"
   ]
  },
  {
   "cell_type": "code",
   "execution_count": 2,
   "id": "404d1b56",
   "metadata": {},
   "outputs": [],
   "source": [
    "# Sample Data\n",
    "\n",
    "employees = [(\"Alice\", 15, 40), (\"Bob\", 20, 45), (\"Charlie\", 25, 35)]"
   ]
  },
  {
   "cell_type": "code",
   "execution_count": 3,
   "id": "3567e525",
   "metadata": {},
   "outputs": [
    {
     "name": "stdout",
     "output_type": "stream",
     "text": [
      "Employee: Alice, Total Salary: $600.00\n",
      "Employee: Bob, Total Salary: $900.00\n",
      "Employee: Charlie, Total Salary: $875.00\n"
     ]
    }
   ],
   "source": [
    "# 1. Calculate Salaries\n",
    "\n",
    "def calculate_salaries(employees):  \n",
    "    return [(val[0], val[1]*val[2]) for val in employees]\n",
    "\n",
    "salaries = calculate_salaries(employees)  \n",
    "for name, salary in salaries:  \n",
    "    print(f\"Employee: {name}, Total Salary: ${salary:.2f}\")"
   ]
  },
  {
   "cell_type": "code",
   "execution_count": 4,
   "id": "5895b58a",
   "metadata": {},
   "outputs": [
    {
     "name": "stdout",
     "output_type": "stream",
     "text": [
      "Employee 'Charlie' having max salary $900.00\n"
     ]
    }
   ],
   "source": [
    "# 2. Identify Top Earner:\n",
    "\n",
    "\n",
    "def identify_top_earner(salaries):  \n",
    "    max_sal = 0\n",
    "    for (employee, salary) in salaries:\n",
    "        if salary >= max_sal:\n",
    "            max_sal = salary\n",
    "    print(f\"Employee '{employee}' having max salary ${max_sal:.2f}\")\n",
    "  \n",
    "identify_top_earner(salaries) "
   ]
  },
  {
   "cell_type": "code",
   "execution_count": 5,
   "id": "3695e19a-4ae8-4f2d-8832-7fa0ecfbbc94",
   "metadata": {},
   "outputs": [
    {
     "data": {
      "text/plain": [
       "[('Alice', 600), ('Bob', 900), ('Charlie', 875)]"
      ]
     },
     "execution_count": 5,
     "metadata": {},
     "output_type": "execute_result"
    }
   ],
   "source": [
    "salaries"
   ]
  },
  {
   "cell_type": "code",
   "execution_count": 6,
   "id": "79ad3a4a",
   "metadata": {},
   "outputs": [
    {
     "data": {
      "text/plain": [
       "791.6666666666666"
      ]
     },
     "execution_count": 6,
     "metadata": {},
     "output_type": "execute_result"
    }
   ],
   "source": [
    "# 3. Average Salary:\n",
    "\n",
    "\n",
    "def average_salary(salaries):  \n",
    "    return sum([salary for employee, salary in salaries ]) / len(salaries)\n",
    "\n",
    "average_salary(salaries)  "
   ]
  },
  {
   "cell_type": "code",
   "execution_count": 7,
   "id": "dd77572a",
   "metadata": {},
   "outputs": [
    {
     "data": {
      "text/plain": [
       "[('Alice', 15, 40), ('Bob', 20, 45), ('Charlie', 25, 35)]"
      ]
     },
     "execution_count": 7,
     "metadata": {},
     "output_type": "execute_result"
    }
   ],
   "source": [
    "employees"
   ]
  },
  {
   "cell_type": "code",
   "execution_count": 8,
   "id": "9ffc934f",
   "metadata": {},
   "outputs": [
    {
     "name": "stdout",
     "output_type": "stream",
     "text": [
      "Employee: Bob, Total Salary with Overtime: $950.00\n"
     ]
    }
   ],
   "source": [
    "# Bonus Task:\n",
    "\n",
    "# 4. Overtime Calculation:\n",
    "\n",
    "\n",
    "def calculate_overtime(employees):  \n",
    "    employee_ot = []\n",
    "    for (name, pay, hours) in employees:\n",
    "        if hours > 40:\n",
    "            overtime = hours - 40\n",
    "            salary = pay*(hours-overtime) + overtime*1.5*pay\n",
    "            employee_ot.append((name, salary))\n",
    "            return employee_ot\n",
    "  \n",
    "overtime_salaries = calculate_overtime(employees)  \n",
    "for name, salary in overtime_salaries:  \n",
    "    print(f\"Employee: {name}, Total Salary with Overtime: ${salary:.2f}\")"
   ]
  },
  {
   "cell_type": "code",
   "execution_count": null,
   "id": "484f16e1",
   "metadata": {},
   "outputs": [],
   "source": []
  },
  {
   "cell_type": "markdown",
   "id": "e1726f05",
   "metadata": {},
   "source": [
    "### Challenge 4: Student Grade Book  \n",
    "  \n",
    "**Scenario:**  \n",
    "  \n",
    "In the scholarly village of Gradeton, you are presented with a dictionary where the keys are student names and the values are tuples containing their scores in three different subjects. The village scribe, Ms. Ledger, needs your help to manage and analyze this grade book.  \n",
    "  \n",
    "**Tasks:**  \n",
    "  \n",
    "- **Display Student Averages:** Show the student names along with their average scores.  \n",
    "- **Identify Top Student:** Find and display the student with the highest average score.  \n",
    "- **Subject Averages:** Compute and display the average scores for each subject.  \n",
    "  \n",
    "**Bonus Task:**  \n",
    "  \n",
    "- **Subject Top Scorer:** Identify and display the top scorer for each subject.  "
   ]
  },
  {
   "cell_type": "code",
   "execution_count": null,
   "id": "28134b61",
   "metadata": {},
   "outputs": [],
   "source": [
    "# Sample Data\n",
    "\n",
    "grade_book = {  \n",
    "    \"Alice\": (90, 85, 88),  \n",
    "    \"Bob\": (78, 82, 80),  \n",
    "    \"Charlie\": (92, 90, 95)  \n",
    "}  \n",
    "\n",
    "grade_book"
   ]
  },
  {
   "cell_type": "code",
   "execution_count": null,
   "id": "8f4775cc",
   "metadata": {},
   "outputs": [],
   "source": [
    "# 1. Display Average\n",
    "\n",
    "def display_student_averages(grade_book):  \n",
    "    pass\n",
    "  \n",
    "display_student_averages(grade_book)  "
   ]
  },
  {
   "cell_type": "code",
   "execution_count": null,
   "id": "65f88465",
   "metadata": {},
   "outputs": [],
   "source": [
    "# 2. Identify Top Student:\n",
    "\n",
    "\n",
    "def identify_top_student(grade_book):  \n",
    "    pass\n",
    "  \n",
    "identify_top_student(grade_book)  "
   ]
  },
  {
   "cell_type": "code",
   "execution_count": null,
   "id": "2e56f0b8",
   "metadata": {},
   "outputs": [],
   "source": [
    "# 3. Subject Averages:\n",
    "\n",
    "\n",
    "def subject_averages(grade_book):  \n",
    "    pass\n",
    "  \n",
    "subject_averages(grade_book)"
   ]
  },
  {
   "cell_type": "code",
   "execution_count": null,
   "id": "444c03ea",
   "metadata": {},
   "outputs": [],
   "source": [
    "# Bonus Task:\n",
    "\n",
    "# 4. Subject Top Scorer:\n",
    "\n",
    "\n",
    "def subject_top_scorer(grade_book):  \n",
    "    pass\n",
    "\n",
    "subject_top_scorer(grade_book)"
   ]
  },
  {
   "cell_type": "markdown",
   "id": "eb9aa80f",
   "metadata": {},
   "source": [
    "> Congratulations, Data Wizard! You have completed your quest and proven your mastery over the mystical arts of ordered data types of Python programming. You have brought order to the chaotic land!"
   ]
  }
 ],
 "metadata": {
  "kernelspec": {
   "display_name": "Python 3 (ipykernel)",
   "language": "python",
   "name": "python3"
  },
  "language_info": {
   "codemirror_mode": {
    "name": "ipython",
    "version": 3
   },
   "file_extension": ".py",
   "mimetype": "text/x-python",
   "name": "python",
   "nbconvert_exporter": "python",
   "pygments_lexer": "ipython3",
   "version": "3.12.4"
  }
 },
 "nbformat": 4,
 "nbformat_minor": 5
}
